{
 "cells": [
  {
   "cell_type": "markdown",
   "metadata": {},
   "source": [
    "# Building a Anime Recommender System\n",
    "\n",
    "In this project, we will explore two types of recommender systems: 1) collaborative filtering, and 2) content-based filtering. We will build our own recommendation system using the Kaggle dataset in Python.\n",
    "\n",
    "### Tutorial Outline\n",
    "\n",
    "This project is broken down into 7 steps:\n",
    "\n",
    "1. Importing the dependnecies\n",
    "1. Loading the data\n",
    "1. Exploratory data analysis \n",
    "1. Data pre-processing\n",
    "1. Collaborative filtering using k-Nearest Neighbors\n",
    "1. Handling the cold-start problem with content-based filtering \n",
    "1. Dimensionality reduction with matrix factorization\n",
    "\n"
   ]
  },
  {
   "cell_type": "markdown",
   "metadata": {},
   "source": [
    "### Step 1: Import Dependencies"
   ]
  },
  {
   "cell_type": "code",
   "execution_count": 139,
   "metadata": {},
   "outputs": [],
   "source": [
    "import numpy as np\n",
    "import pandas as pd\n",
    "import matplotlib.pyplot as plt\n",
    "import seaborn as sns\n",
    "from scipy.sparse import csr_matrix\n",
    "from sklearn.neighbors import NearestNeighbors\n",
    "from collections import Counter\n",
    "from sklearn.metrics.pairwise import cosine_similarity\n",
    "from fuzzywuzzy import process\n",
    "from sklearn.decomposition import TruncatedSVD\n",
    "import warnings\n",
    "warnings.filterwarnings(\"ignore\")"
   ]
  },
  {
   "cell_type": "markdown",
   "metadata": {},
   "source": [
    "### Step 2: Load Data"
   ]
  },
  {
   "cell_type": "code",
   "execution_count": 140,
   "metadata": {},
   "outputs": [],
   "source": [
    "ratings = pd.read_csv('./../data/raw/Col/rating.csv')"
   ]
  },
  {
   "cell_type": "code",
   "execution_count": 141,
   "metadata": {},
   "outputs": [],
   "source": [
    "anime = pd.read_csv('./../data/raw/Col/anime.csv')"
   ]
  },
  {
   "cell_type": "markdown",
   "metadata": {},
   "source": [
    "### Step 3: Exploratory Data Analysis"
   ]
  },
  {
   "cell_type": "code",
   "execution_count": 142,
   "metadata": {},
   "outputs": [
    {
     "name": "stdout",
     "output_type": "stream",
     "text": [
      "anime_id      0\n",
      "name          0\n",
      "genre        62\n",
      "type         25\n",
      "episodes      0\n",
      "rating      230\n",
      "members       0\n",
      "dtype: int64\n"
     ]
    }
   ],
   "source": [
    "print(anime.isnull().sum())"
   ]
  },
  {
   "cell_type": "code",
   "execution_count": 143,
   "metadata": {},
   "outputs": [
    {
     "name": "stdout",
     "output_type": "stream",
     "text": [
      "user_id     0\n",
      "anime_id    0\n",
      "rating      0\n",
      "dtype: int64\n"
     ]
    }
   ],
   "source": [
    "print(ratings.isnull().sum())"
   ]
  },
  {
   "cell_type": "code",
   "execution_count": 144,
   "metadata": {},
   "outputs": [],
   "source": [
    "#Removing any rows with missing values since the dataset is fairly large\n",
    "anime.dropna(inplace=True)"
   ]
  },
  {
   "cell_type": "code",
   "execution_count": 145,
   "metadata": {},
   "outputs": [
    {
     "name": "stdout",
     "output_type": "stream",
     "text": [
      "Number of ratings: 7813737\n",
      "Number of unique animeId's: 11200\n",
      "Number of unique users: 73515\n",
      "Average number of ratings per user: 106.29\n",
      "Average number of ratings per anime: 697.66\n"
     ]
    }
   ],
   "source": [
    "n_ratings = len(ratings)\n",
    "n_animes = ratings['anime_id'].nunique()\n",
    "n_users = ratings['user_id'].nunique()\n",
    "\n",
    "print(f\"Number of ratings: {n_ratings}\")\n",
    "print(f\"Number of unique animeId's: {n_animes}\")\n",
    "print(f\"Number of unique users: {n_users}\")\n",
    "print(f\"Average number of ratings per user: {round(n_ratings/n_users, 2)}\")\n",
    "print(f\"Average number of ratings per anime: {round(n_ratings/n_animes, 2)}\")"
   ]
  },
  {
   "cell_type": "markdown",
   "metadata": {},
   "source": [
    "### What is the distribution of anime ratings?"
   ]
  },
  {
   "cell_type": "code",
   "execution_count": 146,
   "metadata": {},
   "outputs": [
    {
     "data": {
      "image/png": "[encoded data removed]",
      "text/plain": [
       "<Figure size 640x480 with 1 Axes>"
      ]
     },
     "metadata": {},
     "output_type": "display_data"
    }
   ],
   "source": [
    "sns.countplot(x=\"rating\", data=ratings, palette=\"viridis\")\n",
    "plt.title(\"Distribution of anime ratings\", fontsize=14)\n",
    "plt.show()"
   ]
  },
  {
   "cell_type": "code",
   "execution_count": 147,
   "metadata": {},
   "outputs": [
    {
     "name": "stdout",
     "output_type": "stream",
     "text": [
      "Mean global rating: 6.14.\n",
      "Mean rating per user: 6.65.\n"
     ]
    }
   ],
   "source": [
    "print(f\"Mean global rating: {round(ratings['rating'].mean(),2)}.\")\n",
    "\n",
    "mean_ratings = ratings.groupby('user_id')['rating'].mean()\n",
    "print(f\"Mean rating per user: {round(mean_ratings.mean(),2)}.\")"
   ]
  },
  {
   "cell_type": "markdown",
   "metadata": {},
   "source": [
    "### Which anime are most frequently rated?"
   ]
  },
  {
   "cell_type": "code",
   "execution_count": 148,
   "metadata": {},
   "outputs": [
    {
     "data": {
      "text/plain": [
       "name\n",
       "Death Note                          39340\n",
       "Sword Art Online                    30583\n",
       "Shingeki no Kyojin                  29584\n",
       "Code Geass: Hangyaku no Lelouch     27718\n",
       "Elfen Lied                          27506\n",
       "Angel Beats!                        27183\n",
       "Naruto                              25925\n",
       "Fullmetal Alchemist                 25032\n",
       "Fullmetal Alchemist: Brotherhood    24574\n",
       "Toradora!                           24283\n",
       "Name: count, dtype: int64"
      ]
     },
     "execution_count": 148,
     "metadata": {},
     "output_type": "execute_result"
    }
   ],
   "source": [
    "anime_ratings = ratings.merge(anime, on='anime_id')\n",
    "anime_ratings['name'].value_counts()[0:10]"
   ]
  },
  {
   "cell_type": "markdown",
   "metadata": {},
   "source": [
    "`Death Note`, `Sword Art Online`, and `Shingeki no Kyojin` have the most ratings."
   ]
  },
  {
   "cell_type": "markdown",
   "metadata": {},
   "source": [
    "### What are the lowest and highest rated animes? \n",
    "\n",
    "Which anime has the lowest and highest average rating?"
   ]
  },
  {
   "cell_type": "code",
   "execution_count": 149,
   "metadata": {},
   "outputs": [
    {
     "data": {
      "text/html": [
       "<div>\n",
       "<style scoped>\n",
       "    .dataframe tbody tr th:only-of-type {\n",
       "        vertical-align: middle;\n",
       "    }\n",
       "\n",
       "    .dataframe tbody tr th {\n",
       "        vertical-align: top;\n",
       "    }\n",
       "\n",
       "    .dataframe thead th {\n",
       "        text-align: right;\n",
       "    }\n",
       "</style>\n",
       "<table border=\"1\" class=\"dataframe\">\n",
       "  <thead>\n",
       "    <tr style=\"text-align: right;\">\n",
       "      <th></th>\n",
       "      <th>anime_id</th>\n",
       "      <th>name</th>\n",
       "      <th>genre</th>\n",
       "      <th>type</th>\n",
       "      <th>episodes</th>\n",
       "      <th>rating</th>\n",
       "      <th>members</th>\n",
       "    </tr>\n",
       "  </thead>\n",
       "  <tbody>\n",
       "    <tr>\n",
       "      <th>4980</th>\n",
       "      <td>1396</td>\n",
       "      <td>Future GPX Cyber Formula: Early Days Renewal</td>\n",
       "      <td>Drama, Sci-Fi, Shounen, Sports</td>\n",
       "      <td>OVA</td>\n",
       "      <td>2</td>\n",
       "      <td>6.58</td>\n",
       "      <td>338</td>\n",
       "    </tr>\n",
       "  </tbody>\n",
       "</table>\n",
       "</div>"
      ],
      "text/plain": [
       "      anime_id                                          name  \\\n",
       "4980      1396  Future GPX Cyber Formula: Early Days Renewal   \n",
       "\n",
       "                               genre type episodes  rating  members  \n",
       "4980  Drama, Sci-Fi, Shounen, Sports  OVA        2    6.58      338  "
      ]
     },
     "execution_count": 149,
     "metadata": {},
     "output_type": "execute_result"
    }
   ],
   "source": [
    "mean_ratings = ratings.groupby('anime_id')[['rating']].mean()\n",
    "lowest_rated = mean_ratings['rating'].idxmin()\n",
    "anime[anime['anime_id']==lowest_rated]"
   ]
  },
  {
   "cell_type": "markdown",
   "metadata": {},
   "source": [
    "`Future GPX Cyber Formula: Early Days Renewal` has the lowest average rating."
   ]
  },
  {
   "cell_type": "code",
   "execution_count": 150,
   "metadata": {},
   "outputs": [
    {
     "data": {
      "text/html": [
       "<div>\n",
       "<style scoped>\n",
       "    .dataframe tbody tr th:only-of-type {\n",
       "        vertical-align: middle;\n",
       "    }\n",
       "\n",
       "    .dataframe tbody tr th {\n",
       "        vertical-align: top;\n",
       "    }\n",
       "\n",
       "    .dataframe thead th {\n",
       "        text-align: right;\n",
       "    }\n",
       "</style>\n",
       "<table border=\"1\" class=\"dataframe\">\n",
       "  <thead>\n",
       "    <tr style=\"text-align: right;\">\n",
       "      <th></th>\n",
       "      <th>anime_id</th>\n",
       "      <th>name</th>\n",
       "      <th>genre</th>\n",
       "      <th>type</th>\n",
       "      <th>episodes</th>\n",
       "      <th>rating</th>\n",
       "      <th>members</th>\n",
       "    </tr>\n",
       "  </thead>\n",
       "  <tbody>\n",
       "    <tr>\n",
       "      <th>8364</th>\n",
       "      <td>31211</td>\n",
       "      <td>Choegang Top Plate</td>\n",
       "      <td>Action, Comedy, Kids, Sports</td>\n",
       "      <td>TV</td>\n",
       "      <td>26</td>\n",
       "      <td>7.2</td>\n",
       "      <td>86</td>\n",
       "    </tr>\n",
       "  </tbody>\n",
       "</table>\n",
       "</div>"
      ],
      "text/plain": [
       "      anime_id                name                         genre type  \\\n",
       "8364     31211  Choegang Top Plate  Action, Comedy, Kids, Sports   TV   \n",
       "\n",
       "     episodes  rating  members  \n",
       "8364       26     7.2       86  "
      ]
     },
     "execution_count": 150,
     "metadata": {},
     "output_type": "execute_result"
    }
   ],
   "source": [
    "highest_rated = mean_ratings['rating'].idxmax()\n",
    "anime[anime['anime_id'] == highest_rated]"
   ]
  },
  {
   "cell_type": "markdown",
   "metadata": {},
   "source": [
    "How many ratings does `Choegang Top Plate` have?"
   ]
  },
  {
   "cell_type": "code",
   "execution_count": 151,
   "metadata": {},
   "outputs": [
    {
     "data": {
      "text/html": [
       "<div>\n",
       "<style scoped>\n",
       "    .dataframe tbody tr th:only-of-type {\n",
       "        vertical-align: middle;\n",
       "    }\n",
       "\n",
       "    .dataframe tbody tr th {\n",
       "        vertical-align: top;\n",
       "    }\n",
       "\n",
       "    .dataframe thead th {\n",
       "        text-align: right;\n",
       "    }\n",
       "</style>\n",
       "<table border=\"1\" class=\"dataframe\">\n",
       "  <thead>\n",
       "    <tr style=\"text-align: right;\">\n",
       "      <th></th>\n",
       "      <th>user_id</th>\n",
       "      <th>anime_id</th>\n",
       "      <th>rating</th>\n",
       "    </tr>\n",
       "  </thead>\n",
       "  <tbody>\n",
       "    <tr>\n",
       "      <th>2882192</th>\n",
       "      <td>26895</td>\n",
       "      <td>31211</td>\n",
       "      <td>10</td>\n",
       "    </tr>\n",
       "  </tbody>\n",
       "</table>\n",
       "</div>"
      ],
      "text/plain": [
       "         user_id  anime_id  rating\n",
       "2882192    26895     31211      10"
      ]
     },
     "execution_count": 151,
     "metadata": {},
     "output_type": "execute_result"
    }
   ],
   "source": [
    "ratings[ratings['anime_id']==highest_rated]"
   ]
  },
  {
   "cell_type": "markdown",
   "metadata": {},
   "source": [
    "`Choegang Top Plate` may be the \"highest\" rated anime, but it only has 1 rating. A better approach for evaluating anime popularity is to do look at the [Bayesian average](https://en.wikipedia.org/wiki/Bayesian_average)."
   ]
  },
  {
   "cell_type": "markdown",
   "metadata": {},
   "source": [
    "#### Bayesian Average\n",
    "\n",
    "[Bayesian Average](https://en.wikipedia.org/wiki/Bayesian_average) is defined as:\n",
    "\n",
    "$r_{i} = \\frac{C \\times m + \\Sigma{\\text{reviews}}}{C+N}$\n",
    "\n",
    "where $C$ represents our confidence, $m$ represents our prior, and $N$ is the total number of reviews for anime $i$. In this case, our prior $m$ will be the average mean rating across all animes. By defintion, C represents \"the typical data set size\". Let's make $C$ be the average number of ratings for a given anime."
   ]
  },
  {
   "cell_type": "code",
   "execution_count": 152,
   "metadata": {},
   "outputs": [
    {
     "data": {
      "text/html": [
       "<div>\n",
       "<style scoped>\n",
       "    .dataframe tbody tr th:only-of-type {\n",
       "        vertical-align: middle;\n",
       "    }\n",
       "\n",
       "    .dataframe tbody tr th {\n",
       "        vertical-align: top;\n",
       "    }\n",
       "\n",
       "    .dataframe thead th {\n",
       "        text-align: right;\n",
       "    }\n",
       "</style>\n",
       "<table border=\"1\" class=\"dataframe\">\n",
       "  <thead>\n",
       "    <tr style=\"text-align: right;\">\n",
       "      <th></th>\n",
       "      <th>count</th>\n",
       "      <th>mean</th>\n",
       "    </tr>\n",
       "    <tr>\n",
       "      <th>anime_id</th>\n",
       "      <th></th>\n",
       "      <th></th>\n",
       "    </tr>\n",
       "  </thead>\n",
       "  <tbody>\n",
       "    <tr>\n",
       "      <th>1</th>\n",
       "      <td>15509</td>\n",
       "      <td>7.558514</td>\n",
       "    </tr>\n",
       "    <tr>\n",
       "      <th>5</th>\n",
       "      <td>6927</td>\n",
       "      <td>6.890284</td>\n",
       "    </tr>\n",
       "    <tr>\n",
       "      <th>6</th>\n",
       "      <td>11077</td>\n",
       "      <td>6.980590</td>\n",
       "    </tr>\n",
       "    <tr>\n",
       "      <th>7</th>\n",
       "      <td>2629</td>\n",
       "      <td>6.040320</td>\n",
       "    </tr>\n",
       "    <tr>\n",
       "      <th>8</th>\n",
       "      <td>413</td>\n",
       "      <td>5.113801</td>\n",
       "    </tr>\n",
       "  </tbody>\n",
       "</table>\n",
       "</div>"
      ],
      "text/plain": [
       "          count      mean\n",
       "anime_id                 \n",
       "1         15509  7.558514\n",
       "5          6927  6.890284\n",
       "6         11077  6.980590\n",
       "7          2629  6.040320\n",
       "8           413  5.113801"
      ]
     },
     "execution_count": 152,
     "metadata": {},
     "output_type": "execute_result"
    }
   ],
   "source": [
    "anime_stats = ratings.groupby('anime_id')['rating'].agg(['count', 'mean'])\n",
    "anime_stats.head()"
   ]
  },
  {
   "cell_type": "code",
   "execution_count": 153,
   "metadata": {},
   "outputs": [
    {
     "name": "stdout",
     "output_type": "stream",
     "text": [
      "Average number of ratings for a given anime: 697.66\n",
      "Average rating for a given anime: 3.96\n"
     ]
    }
   ],
   "source": [
    "C = anime_stats['count'].mean()\n",
    "m = anime_stats['mean'].mean()\n",
    "\n",
    "print(f\"Average number of ratings for a given anime: {C:.2f}\")\n",
    "print(f\"Average rating for a given anime: {m:.2f}\")\n",
    "\n",
    "def bayesian_avg(ratings):\n",
    "    bayesian_avg = (C*m+ratings.sum())/(C+ratings.count())\n",
    "    return round(bayesian_avg, 3)"
   ]
  },
  {
   "cell_type": "markdown",
   "metadata": {},
   "source": [
    "Let's test our `bayesian_avg` function out on `Choegang Top Plate`:"
   ]
  },
  {
   "cell_type": "code",
   "execution_count": 154,
   "metadata": {},
   "outputs": [
    {
     "data": {
      "text/plain": [
       "np.float64(3.965)"
      ]
     },
     "execution_count": 154,
     "metadata": {},
     "output_type": "execute_result"
    }
   ],
   "source": [
    "choegang = pd.Series([10])\n",
    "bayesian_avg(choegang)"
   ]
  },
  {
   "cell_type": "markdown",
   "metadata": {},
   "source": [
    "`Choegang Top Plate`'s average Bayesian rating is 3.965. \n",
    "\n",
    "Let's now apply `bayesian_avg` to all animes in our dataset."
   ]
  },
  {
   "cell_type": "code",
   "execution_count": 155,
   "metadata": {},
   "outputs": [],
   "source": [
    "bayesian_avg_ratings = ratings.groupby('anime_id')['rating'].agg(bayesian_avg).reset_index()\n",
    "bayesian_avg_ratings.columns = ['anime_id', 'bayesian_avg']\n",
    "anime_stats = anime_stats.merge(bayesian_avg_ratings, on='anime_id')"
   ]
  },
  {
   "cell_type": "code",
   "execution_count": 156,
   "metadata": {},
   "outputs": [
    {
     "data": {
      "text/html": [
       "<div>\n",
       "<style scoped>\n",
       "    .dataframe tbody tr th:only-of-type {\n",
       "        vertical-align: middle;\n",
       "    }\n",
       "\n",
       "    .dataframe tbody tr th {\n",
       "        vertical-align: top;\n",
       "    }\n",
       "\n",
       "    .dataframe thead th {\n",
       "        text-align: right;\n",
       "    }\n",
       "</style>\n",
       "<table border=\"1\" class=\"dataframe\">\n",
       "  <thead>\n",
       "    <tr style=\"text-align: right;\">\n",
       "      <th></th>\n",
       "      <th>anime_id</th>\n",
       "      <th>count</th>\n",
       "      <th>mean</th>\n",
       "      <th>bayesian_avg</th>\n",
       "      <th>name</th>\n",
       "    </tr>\n",
       "  </thead>\n",
       "  <tbody>\n",
       "    <tr>\n",
       "      <th>5673</th>\n",
       "      <td>9253</td>\n",
       "      <td>19283</td>\n",
       "      <td>8.126796</td>\n",
       "      <td>7.981</td>\n",
       "      <td>Steins;Gate</td>\n",
       "    </tr>\n",
       "    <tr>\n",
       "      <th>3965</th>\n",
       "      <td>5114</td>\n",
       "      <td>24574</td>\n",
       "      <td>8.028933</td>\n",
       "      <td>7.917</td>\n",
       "      <td>Fullmetal Alchemist: Brotherhood</td>\n",
       "    </tr>\n",
       "    <tr>\n",
       "      <th>3531</th>\n",
       "      <td>4181</td>\n",
       "      <td>17854</td>\n",
       "      <td>7.835275</td>\n",
       "      <td>7.689</td>\n",
       "      <td>Clannad: After Story</td>\n",
       "    </tr>\n",
       "    <tr>\n",
       "      <th>2651</th>\n",
       "      <td>2904</td>\n",
       "      <td>24242</td>\n",
       "      <td>7.765943</td>\n",
       "      <td>7.659</td>\n",
       "      <td>Code Geass: Hangyaku no Lelouch R2</td>\n",
       "    </tr>\n",
       "    <tr>\n",
       "      <th>6465</th>\n",
       "      <td>11061</td>\n",
       "      <td>8575</td>\n",
       "      <td>7.924082</td>\n",
       "      <td>7.626</td>\n",
       "      <td>Hunter x Hunter (2011)</td>\n",
       "    </tr>\n",
       "  </tbody>\n",
       "</table>\n",
       "</div>"
      ],
      "text/plain": [
       "      anime_id  count      mean  bayesian_avg  \\\n",
       "5673      9253  19283  8.126796         7.981   \n",
       "3965      5114  24574  8.028933         7.917   \n",
       "3531      4181  17854  7.835275         7.689   \n",
       "2651      2904  24242  7.765943         7.659   \n",
       "6465     11061   8575  7.924082         7.626   \n",
       "\n",
       "                                    name  \n",
       "5673                         Steins;Gate  \n",
       "3965    Fullmetal Alchemist: Brotherhood  \n",
       "3531                Clannad: After Story  \n",
       "2651  Code Geass: Hangyaku no Lelouch R2  \n",
       "6465              Hunter x Hunter (2011)  "
      ]
     },
     "execution_count": 156,
     "metadata": {},
     "output_type": "execute_result"
    }
   ],
   "source": [
    "anime_stats = anime_stats.merge(anime[['anime_id', 'name']])\n",
    "anime_stats.sort_values('bayesian_avg', ascending=False).head()"
   ]
  },
  {
   "cell_type": "markdown",
   "metadata": {},
   "source": [
    "Using the Bayesian average, we see that `Steins;Gate`, `Fullmetal Alchemist: Brotherhood`, and `Clannad: After Story` are the most highly rated animes. This result makes much more sense since these animes are critically acclaimed films."
   ]
  },
  {
   "cell_type": "code",
   "execution_count": 157,
   "metadata": {},
   "outputs": [
    {
     "data": {
      "text/html": [
       "<div>\n",
       "<style scoped>\n",
       "    .dataframe tbody tr th:only-of-type {\n",
       "        vertical-align: middle;\n",
       "    }\n",
       "\n",
       "    .dataframe tbody tr th {\n",
       "        vertical-align: top;\n",
       "    }\n",
       "\n",
       "    .dataframe thead th {\n",
       "        text-align: right;\n",
       "    }\n",
       "</style>\n",
       "<table border=\"1\" class=\"dataframe\">\n",
       "  <thead>\n",
       "    <tr style=\"text-align: right;\">\n",
       "      <th></th>\n",
       "      <th>anime_id</th>\n",
       "      <th>count</th>\n",
       "      <th>mean</th>\n",
       "      <th>bayesian_avg</th>\n",
       "      <th>name</th>\n",
       "    </tr>\n",
       "  </thead>\n",
       "  <tbody>\n",
       "    <tr>\n",
       "      <th>385</th>\n",
       "      <td>413</td>\n",
       "      <td>1131</td>\n",
       "      <td>2.142352</td>\n",
       "      <td>2.834</td>\n",
       "      <td>Hametsu no Mars</td>\n",
       "    </tr>\n",
       "    <tr>\n",
       "      <th>8042</th>\n",
       "      <td>19315</td>\n",
       "      <td>2677</td>\n",
       "      <td>3.161375</td>\n",
       "      <td>3.326</td>\n",
       "      <td>Pupa</td>\n",
       "    </tr>\n",
       "    <tr>\n",
       "      <th>2929</th>\n",
       "      <td>3287</td>\n",
       "      <td>237</td>\n",
       "      <td>1.725738</td>\n",
       "      <td>3.391</td>\n",
       "      <td>Tenkuu Danzai Skelter+Heaven</td>\n",
       "    </tr>\n",
       "    <tr>\n",
       "      <th>7468</th>\n",
       "      <td>16608</td>\n",
       "      <td>231</td>\n",
       "      <td>2.502165</td>\n",
       "      <td>3.595</td>\n",
       "      <td>Shitcom</td>\n",
       "    </tr>\n",
       "    <tr>\n",
       "      <th>3856</th>\n",
       "      <td>4866</td>\n",
       "      <td>1397</td>\n",
       "      <td>3.477452</td>\n",
       "      <td>3.637</td>\n",
       "      <td>Pico x CoCo x Chico</td>\n",
       "    </tr>\n",
       "  </tbody>\n",
       "</table>\n",
       "</div>"
      ],
      "text/plain": [
       "      anime_id  count      mean  bayesian_avg                          name\n",
       "385        413   1131  2.142352         2.834               Hametsu no Mars\n",
       "8042     19315   2677  3.161375         3.326                          Pupa\n",
       "2929      3287    237  1.725738         3.391  Tenkuu Danzai Skelter+Heaven\n",
       "7468     16608    231  2.502165         3.595                       Shitcom\n",
       "3856      4866   1397  3.477452         3.637           Pico x CoCo x Chico"
      ]
     },
     "execution_count": 157,
     "metadata": {},
     "output_type": "execute_result"
    }
   ],
   "source": [
    "anime_stats.sort_values('bayesian_avg', ascending=True).head()"
   ]
  },
  {
   "cell_type": "markdown",
   "metadata": {},
   "source": [
    "With Bayesian averaging, it looks like `Hametsu no Mars`, `Pupa`, and `Tenkuu Danzai Skelter+Heaven` are the worst rated animes."
   ]
  },
  {
   "cell_type": "markdown",
   "metadata": {},
   "source": [
    "### A Glimpse at Anime Genres\n",
    "\n",
    "The animes dataset needs to be cleaned in two ways:\n",
    "\n",
    "- `genre` is expressed as a string with a comma `,` separating each genre. We will manipulate this string into a list, which will make it much easier to analyze."
   ]
  },
  {
   "cell_type": "code",
   "execution_count": 158,
   "metadata": {},
   "outputs": [
    {
     "data": {
      "text/html": [
       "<div>\n",
       "<style scoped>\n",
       "    .dataframe tbody tr th:only-of-type {\n",
       "        vertical-align: middle;\n",
       "    }\n",
       "\n",
       "    .dataframe tbody tr th {\n",
       "        vertical-align: top;\n",
       "    }\n",
       "\n",
       "    .dataframe thead th {\n",
       "        text-align: right;\n",
       "    }\n",
       "</style>\n",
       "<table border=\"1\" class=\"dataframe\">\n",
       "  <thead>\n",
       "    <tr style=\"text-align: right;\">\n",
       "      <th></th>\n",
       "      <th>anime_id</th>\n",
       "      <th>name</th>\n",
       "      <th>genre</th>\n",
       "      <th>type</th>\n",
       "      <th>episodes</th>\n",
       "      <th>rating</th>\n",
       "      <th>members</th>\n",
       "    </tr>\n",
       "  </thead>\n",
       "  <tbody>\n",
       "    <tr>\n",
       "      <th>0</th>\n",
       "      <td>32281</td>\n",
       "      <td>Kimi no Na wa.</td>\n",
       "      <td>[Drama,  Romance,  School,  Supernatural]</td>\n",
       "      <td>Movie</td>\n",
       "      <td>1</td>\n",
       "      <td>9.37</td>\n",
       "      <td>200630</td>\n",
       "    </tr>\n",
       "    <tr>\n",
       "      <th>1</th>\n",
       "      <td>5114</td>\n",
       "      <td>Fullmetal Alchemist: Brotherhood</td>\n",
       "      <td>[Action,  Adventure,  Drama,  Fantasy,  Magic,...</td>\n",
       "      <td>TV</td>\n",
       "      <td>64</td>\n",
       "      <td>9.26</td>\n",
       "      <td>793665</td>\n",
       "    </tr>\n",
       "    <tr>\n",
       "      <th>2</th>\n",
       "      <td>28977</td>\n",
       "      <td>Gintama°</td>\n",
       "      <td>[Action,  Comedy,  Historical,  Parody,  Samur...</td>\n",
       "      <td>TV</td>\n",
       "      <td>51</td>\n",
       "      <td>9.25</td>\n",
       "      <td>114262</td>\n",
       "    </tr>\n",
       "    <tr>\n",
       "      <th>3</th>\n",
       "      <td>9253</td>\n",
       "      <td>Steins;Gate</td>\n",
       "      <td>[Sci-Fi,  Thriller]</td>\n",
       "      <td>TV</td>\n",
       "      <td>24</td>\n",
       "      <td>9.17</td>\n",
       "      <td>673572</td>\n",
       "    </tr>\n",
       "    <tr>\n",
       "      <th>4</th>\n",
       "      <td>9969</td>\n",
       "      <td>Gintama&amp;#039;</td>\n",
       "      <td>[Action,  Comedy,  Historical,  Parody,  Samur...</td>\n",
       "      <td>TV</td>\n",
       "      <td>51</td>\n",
       "      <td>9.16</td>\n",
       "      <td>151266</td>\n",
       "    </tr>\n",
       "  </tbody>\n",
       "</table>\n",
       "</div>"
      ],
      "text/plain": [
       "   anime_id                              name  \\\n",
       "0     32281                    Kimi no Na wa.   \n",
       "1      5114  Fullmetal Alchemist: Brotherhood   \n",
       "2     28977                          Gintama°   \n",
       "3      9253                       Steins;Gate   \n",
       "4      9969                     Gintama&#039;   \n",
       "\n",
       "                                               genre   type episodes  rating  \\\n",
       "0          [Drama,  Romance,  School,  Supernatural]  Movie        1    9.37   \n",
       "1  [Action,  Adventure,  Drama,  Fantasy,  Magic,...     TV       64    9.26   \n",
       "2  [Action,  Comedy,  Historical,  Parody,  Samur...     TV       51    9.25   \n",
       "3                                [Sci-Fi,  Thriller]     TV       24    9.17   \n",
       "4  [Action,  Comedy,  Historical,  Parody,  Samur...     TV       51    9.16   \n",
       "\n",
       "   members  \n",
       "0   200630  \n",
       "1   793665  \n",
       "2   114262  \n",
       "3   673572  \n",
       "4   151266  "
      ]
     },
     "execution_count": 158,
     "metadata": {},
     "output_type": "execute_result"
    }
   ],
   "source": [
    "anime['genre'] = anime['genre'].apply(lambda x: x.split(\",\"))\n",
    "anime.head()"
   ]
  },
  {
   "cell_type": "markdown",
   "metadata": {},
   "source": [
    "**How many anime genres are there?**"
   ]
  },
  {
   "cell_type": "code",
   "execution_count": 159,
   "metadata": {},
   "outputs": [
    {
     "name": "stdout",
     "output_type": "stream",
     "text": [
      "There are 82 genres.\n"
     ]
    },
    {
     "data": {
      "text/plain": [
       "Counter({'Comedy': 3147,\n",
       "         'Action': 2768,\n",
       "         ' Sci-Fi': 1955,\n",
       "         ' Fantasy': 1758,\n",
       "         ' Shounen': 1635,\n",
       "         'Adventure': 1445,\n",
       "         ' Comedy': 1428,\n",
       "         ' Romance': 1344,\n",
       "         ' Kids': 1204,\n",
       "         ' School': 1134,\n",
       "         ' Slice of Life': 1101,\n",
       "         ' Drama': 1003,\n",
       "         ' Supernatural': 987,\n",
       "         'Drama': 974,\n",
       "         'Hentai': 940,\n",
       "         ' Adventure': 871,\n",
       "         ' Mecha': 814,\n",
       "         ' Magic': 688,\n",
       "         ' Historical': 629,\n",
       "         ' Shoujo': 581,\n",
       "         ' Ecchi': 564,\n",
       "         ' Seinen': 522,\n",
       "         ' Sports': 491,\n",
       "         'Fantasy': 484,\n",
       "         ' Super Power': 450,\n",
       "         ' Music': 450,\n",
       "         ' Mystery': 414,\n",
       "         ' Military': 396,\n",
       "         'Kids': 394,\n",
       "         'Music': 392,\n",
       "         ' Parody': 388,\n",
       "         ' Space': 376,\n",
       "         ' Horror': 290,\n",
       "         ' Harem': 272,\n",
       "         ' Martial Arts': 259,\n",
       "         'Dementia': 205,\n",
       "         ' Psychological': 204,\n",
       "         ' Demons': 203,\n",
       "         ' Police': 194,\n",
       "         ' Hentai': 193,\n",
       "         'Historical': 169,\n",
       "         ' Samurai': 144,\n",
       "         ' Game': 140,\n",
       "         'Mecha': 115,\n",
       "         'Slice of Life': 103,\n",
       "         ' Vampire': 99,\n",
       "         'Romance': 93,\n",
       "         ' Thriller': 85,\n",
       "         'Demons': 84,\n",
       "         'Sci-Fi': 81,\n",
       "         'Horror': 72,\n",
       "         'Mystery': 71,\n",
       "         'Ecchi': 64,\n",
       "         ' Shounen Ai': 62,\n",
       "         'Magic': 59,\n",
       "         ' Shoujo Ai': 54,\n",
       "         ' Josei': 49,\n",
       "         'Shounen': 49,\n",
       "         'School': 42,\n",
       "         'Sports': 42,\n",
       "         'Harem': 41,\n",
       "         ' Yuri': 41,\n",
       "         'Game': 37,\n",
       "         ' Cars': 37,\n",
       "         ' Yaoi': 36,\n",
       "         'Cars': 35,\n",
       "         ' Dementia': 33,\n",
       "         'Psychological': 22,\n",
       "         'Military': 20,\n",
       "         'Parody': 15,\n",
       "         'Supernatural': 14,\n",
       "         'Shoujo': 13,\n",
       "         'Seinen': 10,\n",
       "         'Martial Arts': 5,\n",
       "         'Josei': 3,\n",
       "         'Samurai': 2,\n",
       "         'Yaoi': 2,\n",
       "         'Police': 1,\n",
       "         'Thriller': 1,\n",
       "         'Super Power': 1,\n",
       "         'Vampire': 1,\n",
       "         'Space': 1})"
      ]
     },
     "execution_count": 159,
     "metadata": {},
     "output_type": "execute_result"
    }
   ],
   "source": [
    "genre_frequency = Counter(g for genres in anime['genre'] for g in genres)\n",
    "\n",
    "print(f\"There are {len(genre_frequency)} genres.\")\n",
    "\n",
    "genre_frequency"
   ]
  },
  {
   "cell_type": "code",
   "execution_count": 160,
   "metadata": {},
   "outputs": [
    {
     "name": "stdout",
     "output_type": "stream",
     "text": [
      "The 5 most common genres: \n",
      " [('Comedy', 3147), ('Action', 2768), (' Sci-Fi', 1955), (' Fantasy', 1758), (' Shounen', 1635)]\n"
     ]
    }
   ],
   "source": [
    "print(\"The 5 most common genres: \\n\", genre_frequency.most_common(5))"
   ]
  },
  {
   "cell_type": "markdown",
   "metadata": {},
   "source": [
    "The top 5 genres are: `Comedy`, `Action`, `Sci-Fi`, `Fantasy` and `Shounen`.\n",
    "\n",
    "Let's also visualize genres popularity with a barplot."
   ]
  },
  {
   "cell_type": "code",
   "execution_count": 161,
   "metadata": {},
   "outputs": [
    {
     "data": {
      "image/png": "[encoded data removed]",
      "text/plain": [
       "<Figure size 1500x800 with 1 Axes>"
      ]
     },
     "metadata": {},
     "output_type": "display_data"
    }
   ],
   "source": [
    "genre_frequency_df = pd.DataFrame([genre_frequency]).T.reset_index()\n",
    "genre_frequency_df.columns = ['genre', 'count']\n",
    "\n",
    "plt.figure(figsize=(15,8))\n",
    "sns.barplot(x='genre', y='count', data=genre_frequency_df.sort_values(by='count', ascending=False))\n",
    "plt.xticks(rotation=90)\n",
    "plt.show()"
   ]
  },
  {
   "cell_type": "markdown",
   "metadata": {},
   "source": [
    "### Step 4: Data Pre-processing\n",
    "\n",
    "We are going to use a technique called colaborative filtering to generate recommendations for users. This technique is based on the premise that similar people like similar things. \n",
    "\n",
    "The first step is to transform our data into a user-item matrix, also known as a \"utility\" matrix. In this matrix, rows represent users and columns represent animes. The beauty of collaborative filtering is that it doesn't require any information about the users or the animes user to generate recommendations."
   ]
  },
  {
   "cell_type": "markdown",
   "metadata": {},
   "source": [
    "The `create_X()` function outputs a sparse matrix $X$ with four mapper dictionaries:\n",
    "\n",
    "- **user_mapper**: maps user id to user index\n",
    "- **anime_mapper**: maps anime id to anime index\n",
    "- **user_inv_mapper**: maps user index to user id\n",
    "- **anime_inv_mapper**: maps anime index to anime id\n",
    "\n",
    "We need these dictionaries because they map which row/column of the utility matrix corresponds to which user/anime id.\n",
    "\n",
    "Our $X$ (user-item) matrix is a [scipy.sparse.csr_matrix](https://docs.scipy.org/doc/scipy-0.14.0/reference/generated/scipy.sparse.csr_matrix.html) which stores the data sparsely."
   ]
  },
  {
   "cell_type": "code",
   "execution_count": 162,
   "metadata": {},
   "outputs": [],
   "source": [
    "def create_X(df):\n",
    "    \"\"\"\n",
    "    Generates a sparse matrix from ratings dataframe.\n",
    "    \n",
    "    Args:\n",
    "        df: pandas dataframe containing 3 columns (user_id, anime_id, rating)\n",
    "    \n",
    "    Returns:\n",
    "        X: sparse matrix\n",
    "        user_mapper: dict that maps user id's to user indices\n",
    "        user_inv_mapper: dict that maps user indices to user id's\n",
    "        anime_mapper: dict that maps anime id's to anime indices\n",
    "        anime_inv_mapper: dict that maps anime indices to anime id's\n",
    "    \"\"\"\n",
    "    M = df['user_id'].nunique()\n",
    "    N = df['anime_id'].nunique()\n",
    "\n",
    "    user_mapper = dict(zip(np.unique(df[\"user_id\"]), list(range(M))))\n",
    "    anime_mapper = dict(zip(np.unique(df[\"anime_id\"]), list(range(N))))\n",
    "    \n",
    "    user_inv_mapper = dict(zip(list(range(M)), np.unique(df[\"user_id\"])))\n",
    "    anime_inv_mapper = dict(zip(list(range(N)), np.unique(df[\"anime_id\"])))\n",
    "    \n",
    "    user_index = [user_mapper[i] for i in df['user_id']]\n",
    "    item_index = [anime_mapper[i] for i in df['anime_id']]\n",
    "\n",
    "    X = csr_matrix((df[\"rating\"], (user_index,item_index)), shape=(M,N))\n",
    "    \n",
    "    return X, user_mapper, anime_mapper, user_inv_mapper, anime_inv_mapper\n",
    "\n",
    "X, user_mapper, anime_mapper, user_inv_mapper, anime_inv_mapper = create_X(ratings)"
   ]
  },
  {
   "cell_type": "code",
   "execution_count": 163,
   "metadata": {},
   "outputs": [
    {
     "data": {
      "text/plain": [
       "(73515, 11200)"
      ]
     },
     "execution_count": 163,
     "metadata": {},
     "output_type": "execute_result"
    }
   ],
   "source": [
    "X.shape"
   ]
  },
  {
   "cell_type": "code",
   "execution_count": 164,
   "metadata": {},
   "outputs": [
    {
     "data": {
      "text/plain": [
       "{np.int64(1): 0,\n",
       " np.int64(2): 1,\n",
       " np.int64(3): 2,\n",
       " np.int64(4): 3,\n",
       " np.int64(5): 4,\n",
       " np.int64(6): 5,\n",
       " np.int64(7): 6,\n",
       " np.int64(8): 7,\n",
       " np.int64(9): 8,\n",
       " np.int64(10): 9,\n",
       " np.int64(11): 10,\n",
       " np.int64(12): 11,\n",
       " np.int64(13): 12,\n",
       " np.int64(14): 13,\n",
       " np.int64(15): 14,\n",
       " np.int64(16): 15,\n",
       " np.int64(17): 16,\n",
       " np.int64(18): 17,\n",
       " np.int64(19): 18,\n",
       " np.int64(20): 19,\n",
       " np.int64(21): 20,\n",
       " np.int64(22): 21,\n",
       " np.int64(23): 22,\n",
       " np.int64(24): 23,\n",
       " np.int64(25): 24,\n",
       " np.int64(26): 25,\n",
       " np.int64(27): 26,\n",
       " np.int64(28): 27,\n",
       " np.int64(29): 28,\n",
       " np.int64(30): 29,\n",
       " np.int64(31): 30,\n",
       " np.int64(32): 31,\n",
       " np.int64(33): 32,\n",
       " np.int64(34): 33,\n",
       " np.int64(35): 34,\n",
       " np.int64(36): 35,\n",
       " np.int64(37): 36,\n",
       " np.int64(38): 37,\n",
       " np.int64(39): 38,\n",
       " np.int64(40): 39,\n",
       " np.int64(41): 40,\n",
       " np.int64(42): 41,\n",
       " np.int64(43): 42,\n",
       " np.int64(44): 43,\n",
       " np.int64(45): 44,\n",
       " np.int64(46): 45,\n",
       " np.int64(47): 46,\n",
       " np.int64(48): 47,\n",
       " np.int64(49): 48,\n",
       " np.int64(50): 49,\n",
       " np.int64(51): 50,\n",
       " np.int64(52): 51,\n",
       " np.int64(53): 52,\n",
       " np.int64(54): 53,\n",
       " np.int64(55): 54,\n",
       " np.int64(56): 55,\n",
       " np.int64(57): 56,\n",
       " np.int64(58): 57,\n",
       " np.int64(59): 58,\n",
       " np.int64(60): 59,\n",
       " np.int64(61): 60,\n",
       " np.int64(62): 61,\n",
       " np.int64(63): 62,\n",
       " np.int64(64): 63,\n",
       " np.int64(65): 64,\n",
       " np.int64(66): 65,\n",
       " np.int64(67): 66,\n",
       " np.int64(68): 67,\n",
       " np.int64(69): 68,\n",
       " np.int64(70): 69,\n",
       " np.int64(71): 70,\n",
       " np.int64(72): 71,\n",
       " np.int64(73): 72,\n",
       " np.int64(74): 73,\n",
       " np.int64(75): 74,\n",
       " np.int64(76): 75,\n",
       " np.int64(77): 76,\n",
       " np.int64(78): 77,\n",
       " np.int64(79): 78,\n",
       " np.int64(80): 79,\n",
       " np.int64(81): 80,\n",
       " np.int64(82): 81,\n",
       " np.int64(83): 82,\n",
       " np.int64(84): 83,\n",
       " np.int64(85): 84,\n",
       " np.int64(86): 85,\n",
       " np.int64(87): 86,\n",
       " np.int64(88): 87,\n",
       " np.int64(89): 88,\n",
       " np.int64(90): 89,\n",
       " np.int64(91): 90,\n",
       " np.int64(92): 91,\n",
       " np.int64(93): 92,\n",
       " np.int64(94): 93,\n",
       " np.int64(95): 94,\n",
       " np.int64(96): 95,\n",
       " np.int64(97): 96,\n",
       " np.int64(98): 97,\n",
       " np.int64(99): 98,\n",
       " np.int64(100): 99,\n",
       " np.int64(101): 100,\n",
       " np.int64(102): 101,\n",
       " np.int64(103): 102,\n",
       " np.int64(104): 103,\n",
       " np.int64(105): 104,\n",
       " np.int64(106): 105,\n",
       " np.int64(107): 106,\n",
       " np.int64(108): 107,\n",
       " np.int64(109): 108,\n",
       " np.int64(110): 109,\n",
       " np.int64(111): 110,\n",
       " np.int64(112): 111,\n",
       " np.int64(113): 112,\n",
       " np.int64(114): 113,\n",
       " np.int64(115): 114,\n",
       " np.int64(116): 115,\n",
       " np.int64(117): 116,\n",
       " np.int64(118): 117,\n",
       " np.int64(119): 118,\n",
       " np.int64(120): 119,\n",
       " np.int64(121): 120,\n",
       " np.int64(122): 121,\n",
       " np.int64(123): 122,\n",
       " np.int64(124): 123,\n",
       " np.int64(125): 124,\n",
       " np.int64(126): 125,\n",
       " np.int64(127): 126,\n",
       " np.int64(128): 127,\n",
       " np.int64(129): 128,\n",
       " np.int64(130): 129,\n",
       " np.int64(131): 130,\n",
       " np.int64(132): 131,\n",
       " np.int64(133): 132,\n",
       " np.int64(134): 133,\n",
       " np.int64(135): 134,\n",
       " np.int64(136): 135,\n",
       " np.int64(137): 136,\n",
       " np.int64(138): 137,\n",
       " np.int64(139): 138,\n",
       " np.int64(140): 139,\n",
       " np.int64(141): 140,\n",
       " np.int64(142): 141,\n",
       " np.int64(143): 142,\n",
       " np.int64(144): 143,\n",
       " np.int64(145): 144,\n",
       " np.int64(146): 145,\n",
       " np.int64(147): 146,\n",
       " np.int64(148): 147,\n",
       " np.int64(149): 148,\n",
       " np.int64(150): 149,\n",
       " np.int64(151): 150,\n",
       " np.int64(152): 151,\n",
       " np.int64(153): 152,\n",
       " np.int64(154): 153,\n",
       " np.int64(155): 154,\n",
       " np.int64(156): 155,\n",
       " np.int64(157): 156,\n",
       " np.int64(158): 157,\n",
       " np.int64(159): 158,\n",
       " np.int64(160): 159,\n",
       " np.int64(161): 160,\n",
       " np.int64(162): 161,\n",
       " np.int64(163): 162,\n",
       " np.int64(164): 163,\n",
       " np.int64(165): 164,\n",
       " np.int64(166): 165,\n",
       " np.int64(167): 166,\n",
       " np.int64(168): 167,\n",
       " np.int64(169): 168,\n",
       " np.int64(170): 169,\n",
       " np.int64(171): 170,\n",
       " np.int64(172): 171,\n",
       " np.int64(173): 172,\n",
       " np.int64(174): 173,\n",
       " np.int64(175): 174,\n",
       " np.int64(176): 175,\n",
       " np.int64(177): 176,\n",
       " np.int64(178): 177,\n",
       " np.int64(179): 178,\n",
       " np.int64(180): 179,\n",
       " np.int64(181): 180,\n",
       " np.int64(182): 181,\n",
       " np.int64(183): 182,\n",
       " np.int64(184): 183,\n",
       " np.int64(185): 184,\n",
       " np.int64(186): 185,\n",
       " np.int64(187): 186,\n",
       " np.int64(188): 187,\n",
       " np.int64(189): 188,\n",
       " np.int64(190): 189,\n",
       " np.int64(191): 190,\n",
       " np.int64(192): 191,\n",
       " np.int64(193): 192,\n",
       " np.int64(194): 193,\n",
       " np.int64(195): 194,\n",
       " np.int64(196): 195,\n",
       " np.int64(197): 196,\n",
       " np.int64(198): 197,\n",
       " np.int64(199): 198,\n",
       " np.int64(200): 199,\n",
       " np.int64(201): 200,\n",
       " np.int64(202): 201,\n",
       " np.int64(203): 202,\n",
       " np.int64(204): 203,\n",
       " np.int64(205): 204,\n",
       " np.int64(206): 205,\n",
       " np.int64(207): 206,\n",
       " np.int64(208): 207,\n",
       " np.int64(209): 208,\n",
       " np.int64(210): 209,\n",
       " np.int64(211): 210,\n",
       " np.int64(212): 211,\n",
       " np.int64(213): 212,\n",
       " np.int64(214): 213,\n",
       " np.int64(215): 214,\n",
       " np.int64(216): 215,\n",
       " np.int64(217): 216,\n",
       " np.int64(218): 217,\n",
       " np.int64(219): 218,\n",
       " np.int64(220): 219,\n",
       " np.int64(221): 220,\n",
       " np.int64(222): 221,\n",
       " np.int64(223): 222,\n",
       " np.int64(224): 223,\n",
       " np.int64(225): 224,\n",
       " np.int64(226): 225,\n",
       " np.int64(227): 226,\n",
       " np.int64(228): 227,\n",
       " np.int64(229): 228,\n",
       " np.int64(230): 229,\n",
       " np.int64(231): 230,\n",
       " np.int64(232): 231,\n",
       " np.int64(233): 232,\n",
       " np.int64(234): 233,\n",
       " np.int64(235): 234,\n",
       " np.int64(236): 235,\n",
       " np.int64(237): 236,\n",
       " np.int64(238): 237,\n",
       " np.int64(239): 238,\n",
       " np.int64(240): 239,\n",
       " np.int64(241): 240,\n",
       " np.int64(242): 241,\n",
       " np.int64(243): 242,\n",
       " np.int64(244): 243,\n",
       " np.int64(245): 244,\n",
       " np.int64(246): 245,\n",
       " np.int64(247): 246,\n",
       " np.int64(248): 247,\n",
       " np.int64(249): 248,\n",
       " np.int64(250): 249,\n",
       " np.int64(251): 250,\n",
       " np.int64(252): 251,\n",
       " np.int64(253): 252,\n",
       " np.int64(254): 253,\n",
       " np.int64(255): 254,\n",
       " np.int64(256): 255,\n",
       " np.int64(257): 256,\n",
       " np.int64(258): 257,\n",
       " np.int64(259): 258,\n",
       " np.int64(260): 259,\n",
       " np.int64(261): 260,\n",
       " np.int64(262): 261,\n",
       " np.int64(263): 262,\n",
       " np.int64(264): 263,\n",
       " np.int64(265): 264,\n",
       " np.int64(266): 265,\n",
       " np.int64(267): 266,\n",
       " np.int64(268): 267,\n",
       " np.int64(269): 268,\n",
       " np.int64(270): 269,\n",
       " np.int64(271): 270,\n",
       " np.int64(272): 271,\n",
       " np.int64(273): 272,\n",
       " np.int64(274): 273,\n",
       " np.int64(275): 274,\n",
       " np.int64(276): 275,\n",
       " np.int64(277): 276,\n",
       " np.int64(278): 277,\n",
       " np.int64(279): 278,\n",
       " np.int64(280): 279,\n",
       " np.int64(281): 280,\n",
       " np.int64(282): 281,\n",
       " np.int64(283): 282,\n",
       " np.int64(284): 283,\n",
       " np.int64(285): 284,\n",
       " np.int64(286): 285,\n",
       " np.int64(287): 286,\n",
       " np.int64(288): 287,\n",
       " np.int64(289): 288,\n",
       " np.int64(290): 289,\n",
       " np.int64(291): 290,\n",
       " np.int64(292): 291,\n",
       " np.int64(293): 292,\n",
       " np.int64(294): 293,\n",
       " np.int64(295): 294,\n",
       " np.int64(296): 295,\n",
       " np.int64(297): 296,\n",
       " np.int64(298): 297,\n",
       " np.int64(299): 298,\n",
       " np.int64(300): 299,\n",
       " np.int64(301): 300,\n",
       " np.int64(302): 301,\n",
       " np.int64(303): 302,\n",
       " np.int64(304): 303,\n",
       " np.int64(305): 304,\n",
       " np.int64(306): 305,\n",
       " np.int64(307): 306,\n",
       " np.int64(308): 307,\n",
       " np.int64(309): 308,\n",
       " np.int64(310): 309,\n",
       " np.int64(311): 310,\n",
       " np.int64(312): 311,\n",
       " np.int64(313): 312,\n",
       " np.int64(314): 313,\n",
       " np.int64(315): 314,\n",
       " np.int64(316): 315,\n",
       " np.int64(317): 316,\n",
       " np.int64(318): 317,\n",
       " np.int64(319): 318,\n",
       " np.int64(320): 319,\n",
       " np.int64(321): 320,\n",
       " np.int64(322): 321,\n",
       " np.int64(323): 322,\n",
       " np.int64(324): 323,\n",
       " np.int64(325): 324,\n",
       " np.int64(326): 325,\n",
       " np.int64(327): 326,\n",
       " np.int64(328): 327,\n",
       " np.int64(329): 328,\n",
       " np.int64(330): 329,\n",
       " np.int64(331): 330,\n",
       " np.int64(332): 331,\n",
       " np.int64(333): 332,\n",
       " np.int64(334): 333,\n",
       " np.int64(335): 334,\n",
       " np.int64(336): 335,\n",
       " np.int64(337): 336,\n",
       " np.int64(338): 337,\n",
       " np.int64(339): 338,\n",
       " np.int64(340): 339,\n",
       " np.int64(341): 340,\n",
       " np.int64(342): 341,\n",
       " np.int64(343): 342,\n",
       " np.int64(344): 343,\n",
       " np.int64(345): 344,\n",
       " np.int64(346): 345,\n",
       " np.int64(347): 346,\n",
       " np.int64(348): 347,\n",
       " np.int64(349): 348,\n",
       " np.int64(350): 349,\n",
       " np.int64(351): 350,\n",
       " np.int64(352): 351,\n",
       " np.int64(353): 352,\n",
       " np.int64(354): 353,\n",
       " np.int64(355): 354,\n",
       " np.int64(356): 355,\n",
       " np.int64(357): 356,\n",
       " np.int64(358): 357,\n",
       " np.int64(359): 358,\n",
       " np.int64(360): 359,\n",
       " np.int64(361): 360,\n",
       " np.int64(362): 361,\n",
       " np.int64(363): 362,\n",
       " np.int64(364): 363,\n",
       " np.int64(365): 364,\n",
       " np.int64(366): 365,\n",
       " np.int64(367): 366,\n",
       " np.int64(368): 367,\n",
       " np.int64(369): 368,\n",
       " np.int64(370): 369,\n",
       " np.int64(371): 370,\n",
       " np.int64(372): 371,\n",
       " np.int64(373): 372,\n",
       " np.int64(374): 373,\n",
       " np.int64(375): 374,\n",
       " np.int64(376): 375,\n",
       " np.int64(377): 376,\n",
       " np.int64(378): 377,\n",
       " np.int64(379): 378,\n",
       " np.int64(380): 379,\n",
       " np.int64(381): 380,\n",
       " np.int64(382): 381,\n",
       " np.int64(383): 382,\n",
       " np.int64(384): 383,\n",
       " np.int64(385): 384,\n",
       " np.int64(386): 385,\n",
       " np.int64(387): 386,\n",
       " np.int64(388): 387,\n",
       " np.int64(389): 388,\n",
       " np.int64(390): 389,\n",
       " np.int64(391): 390,\n",
       " np.int64(392): 391,\n",
       " np.int64(393): 392,\n",
       " np.int64(394): 393,\n",
       " np.int64(395): 394,\n",
       " np.int64(396): 395,\n",
       " np.int64(397): 396,\n",
       " np.int64(398): 397,\n",
       " np.int64(399): 398,\n",
       " np.int64(400): 399,\n",
       " np.int64(401): 400,\n",
       " np.int64(402): 401,\n",
       " np.int64(403): 402,\n",
       " np.int64(404): 403,\n",
       " np.int64(405): 404,\n",
       " np.int64(406): 405,\n",
       " np.int64(407): 406,\n",
       " np.int64(408): 407,\n",
       " np.int64(409): 408,\n",
       " np.int64(410): 409,\n",
       " np.int64(411): 410,\n",
       " np.int64(412): 411,\n",
       " np.int64(413): 412,\n",
       " np.int64(414): 413,\n",
       " np.int64(415): 414,\n",
       " np.int64(416): 415,\n",
       " np.int64(417): 416,\n",
       " np.int64(418): 417,\n",
       " np.int64(419): 418,\n",
       " np.int64(420): 419,\n",
       " np.int64(421): 420,\n",
       " np.int64(422): 421,\n",
       " np.int64(423): 422,\n",
       " np.int64(424): 423,\n",
       " np.int64(425): 424,\n",
       " np.int64(426): 425,\n",
       " np.int64(427): 426,\n",
       " np.int64(428): 427,\n",
       " np.int64(429): 428,\n",
       " np.int64(430): 429,\n",
       " np.int64(431): 430,\n",
       " np.int64(432): 431,\n",
       " np.int64(433): 432,\n",
       " np.int64(434): 433,\n",
       " np.int64(435): 434,\n",
       " np.int64(436): 435,\n",
       " np.int64(437): 436,\n",
       " np.int64(438): 437,\n",
       " np.int64(439): 438,\n",
       " np.int64(440): 439,\n",
       " np.int64(441): 440,\n",
       " np.int64(442): 441,\n",
       " np.int64(443): 442,\n",
       " np.int64(444): 443,\n",
       " np.int64(445): 444,\n",
       " np.int64(446): 445,\n",
       " np.int64(447): 446,\n",
       " np.int64(448): 447,\n",
       " np.int64(449): 448,\n",
       " np.int64(450): 449,\n",
       " np.int64(451): 450,\n",
       " np.int64(452): 451,\n",
       " np.int64(453): 452,\n",
       " np.int64(454): 453,\n",
       " np.int64(455): 454,\n",
       " np.int64(456): 455,\n",
       " np.int64(457): 456,\n",
       " np.int64(458): 457,\n",
       " np.int64(459): 458,\n",
       " np.int64(460): 459,\n",
       " np.int64(461): 460,\n",
       " np.int64(462): 461,\n",
       " np.int64(463): 462,\n",
       " np.int64(464): 463,\n",
       " np.int64(465): 464,\n",
       " np.int64(466): 465,\n",
       " np.int64(467): 466,\n",
       " np.int64(468): 467,\n",
       " np.int64(469): 468,\n",
       " np.int64(470): 469,\n",
       " np.int64(471): 470,\n",
       " np.int64(472): 471,\n",
       " np.int64(473): 472,\n",
       " np.int64(474): 473,\n",
       " np.int64(475): 474,\n",
       " np.int64(476): 475,\n",
       " np.int64(477): 476,\n",
       " np.int64(478): 477,\n",
       " np.int64(479): 478,\n",
       " np.int64(480): 479,\n",
       " np.int64(481): 480,\n",
       " np.int64(482): 481,\n",
       " np.int64(483): 482,\n",
       " np.int64(484): 483,\n",
       " np.int64(485): 484,\n",
       " np.int64(486): 485,\n",
       " np.int64(487): 486,\n",
       " np.int64(488): 487,\n",
       " np.int64(489): 488,\n",
       " np.int64(490): 489,\n",
       " np.int64(491): 490,\n",
       " np.int64(492): 491,\n",
       " np.int64(493): 492,\n",
       " np.int64(494): 493,\n",
       " np.int64(495): 494,\n",
       " np.int64(496): 495,\n",
       " np.int64(497): 496,\n",
       " np.int64(498): 497,\n",
       " np.int64(499): 498,\n",
       " np.int64(500): 499,\n",
       " np.int64(501): 500,\n",
       " np.int64(502): 501,\n",
       " np.int64(503): 502,\n",
       " np.int64(504): 503,\n",
       " np.int64(505): 504,\n",
       " np.int64(506): 505,\n",
       " np.int64(507): 506,\n",
       " np.int64(508): 507,\n",
       " np.int64(509): 508,\n",
       " np.int64(510): 509,\n",
       " np.int64(511): 510,\n",
       " np.int64(512): 511,\n",
       " np.int64(513): 512,\n",
       " np.int64(514): 513,\n",
       " np.int64(515): 514,\n",
       " np.int64(516): 515,\n",
       " np.int64(517): 516,\n",
       " np.int64(518): 517,\n",
       " np.int64(519): 518,\n",
       " np.int64(520): 519,\n",
       " np.int64(521): 520,\n",
       " np.int64(522): 521,\n",
       " np.int64(523): 522,\n",
       " np.int64(524): 523,\n",
       " np.int64(525): 524,\n",
       " np.int64(526): 525,\n",
       " np.int64(527): 526,\n",
       " np.int64(528): 527,\n",
       " np.int64(529): 528,\n",
       " np.int64(530): 529,\n",
       " np.int64(531): 530,\n",
       " np.int64(532): 531,\n",
       " np.int64(533): 532,\n",
       " np.int64(534): 533,\n",
       " np.int64(535): 534,\n",
       " np.int64(536): 535,\n",
       " np.int64(537): 536,\n",
       " np.int64(538): 537,\n",
       " np.int64(539): 538,\n",
       " np.int64(540): 539,\n",
       " np.int64(541): 540,\n",
       " np.int64(542): 541,\n",
       " np.int64(543): 542,\n",
       " np.int64(544): 543,\n",
       " np.int64(545): 544,\n",
       " np.int64(546): 545,\n",
       " np.int64(547): 546,\n",
       " np.int64(548): 547,\n",
       " np.int64(549): 548,\n",
       " np.int64(550): 549,\n",
       " np.int64(551): 550,\n",
       " np.int64(552): 551,\n",
       " np.int64(553): 552,\n",
       " np.int64(554): 553,\n",
       " np.int64(555): 554,\n",
       " np.int64(556): 555,\n",
       " np.int64(557): 556,\n",
       " np.int64(558): 557,\n",
       " np.int64(559): 558,\n",
       " np.int64(560): 559,\n",
       " np.int64(561): 560,\n",
       " np.int64(562): 561,\n",
       " np.int64(563): 562,\n",
       " np.int64(564): 563,\n",
       " np.int64(565): 564,\n",
       " np.int64(566): 565,\n",
       " np.int64(567): 566,\n",
       " np.int64(568): 567,\n",
       " np.int64(569): 568,\n",
       " np.int64(570): 569,\n",
       " np.int64(571): 570,\n",
       " np.int64(572): 571,\n",
       " np.int64(573): 572,\n",
       " np.int64(574): 573,\n",
       " np.int64(575): 574,\n",
       " np.int64(576): 575,\n",
       " np.int64(577): 576,\n",
       " np.int64(578): 577,\n",
       " np.int64(579): 578,\n",
       " np.int64(580): 579,\n",
       " np.int64(581): 580,\n",
       " np.int64(582): 581,\n",
       " np.int64(583): 582,\n",
       " np.int64(584): 583,\n",
       " np.int64(585): 584,\n",
       " np.int64(586): 585,\n",
       " np.int64(587): 586,\n",
       " np.int64(588): 587,\n",
       " np.int64(589): 588,\n",
       " np.int64(590): 589,\n",
       " np.int64(591): 590,\n",
       " np.int64(592): 591,\n",
       " np.int64(593): 592,\n",
       " np.int64(594): 593,\n",
       " np.int64(595): 594,\n",
       " np.int64(596): 595,\n",
       " np.int64(597): 596,\n",
       " np.int64(598): 597,\n",
       " np.int64(599): 598,\n",
       " np.int64(600): 599,\n",
       " np.int64(601): 600,\n",
       " np.int64(602): 601,\n",
       " np.int64(603): 602,\n",
       " np.int64(604): 603,\n",
       " np.int64(605): 604,\n",
       " np.int64(606): 605,\n",
       " np.int64(607): 606,\n",
       " np.int64(608): 607,\n",
       " np.int64(609): 608,\n",
       " np.int64(610): 609,\n",
       " np.int64(611): 610,\n",
       " np.int64(612): 611,\n",
       " np.int64(613): 612,\n",
       " np.int64(614): 613,\n",
       " np.int64(615): 614,\n",
       " np.int64(616): 615,\n",
       " np.int64(617): 616,\n",
       " np.int64(618): 617,\n",
       " np.int64(619): 618,\n",
       " np.int64(620): 619,\n",
       " np.int64(621): 620,\n",
       " np.int64(622): 621,\n",
       " np.int64(623): 622,\n",
       " np.int64(624): 623,\n",
       " np.int64(625): 624,\n",
       " np.int64(626): 625,\n",
       " np.int64(627): 626,\n",
       " np.int64(628): 627,\n",
       " np.int64(629): 628,\n",
       " np.int64(630): 629,\n",
       " np.int64(631): 630,\n",
       " np.int64(632): 631,\n",
       " np.int64(633): 632,\n",
       " np.int64(634): 633,\n",
       " np.int64(635): 634,\n",
       " np.int64(636): 635,\n",
       " np.int64(637): 636,\n",
       " np.int64(638): 637,\n",
       " np.int64(639): 638,\n",
       " np.int64(640): 639,\n",
       " np.int64(641): 640,\n",
       " np.int64(642): 641,\n",
       " np.int64(643): 642,\n",
       " np.int64(644): 643,\n",
       " np.int64(645): 644,\n",
       " np.int64(646): 645,\n",
       " np.int64(647): 646,\n",
       " np.int64(648): 647,\n",
       " np.int64(649): 648,\n",
       " np.int64(650): 649,\n",
       " np.int64(651): 650,\n",
       " np.int64(652): 651,\n",
       " np.int64(653): 652,\n",
       " np.int64(654): 653,\n",
       " np.int64(655): 654,\n",
       " np.int64(656): 655,\n",
       " np.int64(657): 656,\n",
       " np.int64(658): 657,\n",
       " np.int64(659): 658,\n",
       " np.int64(660): 659,\n",
       " np.int64(661): 660,\n",
       " np.int64(662): 661,\n",
       " np.int64(663): 662,\n",
       " np.int64(664): 663,\n",
       " np.int64(665): 664,\n",
       " np.int64(666): 665,\n",
       " np.int64(667): 666,\n",
       " np.int64(668): 667,\n",
       " np.int64(669): 668,\n",
       " np.int64(670): 669,\n",
       " np.int64(671): 670,\n",
       " np.int64(672): 671,\n",
       " np.int64(673): 672,\n",
       " np.int64(674): 673,\n",
       " np.int64(675): 674,\n",
       " np.int64(676): 675,\n",
       " np.int64(677): 676,\n",
       " np.int64(678): 677,\n",
       " np.int64(679): 678,\n",
       " np.int64(680): 679,\n",
       " np.int64(681): 680,\n",
       " np.int64(682): 681,\n",
       " np.int64(683): 682,\n",
       " np.int64(684): 683,\n",
       " np.int64(685): 684,\n",
       " np.int64(686): 685,\n",
       " np.int64(687): 686,\n",
       " np.int64(688): 687,\n",
       " np.int64(689): 688,\n",
       " np.int64(690): 689,\n",
       " np.int64(691): 690,\n",
       " np.int64(692): 691,\n",
       " np.int64(693): 692,\n",
       " np.int64(694): 693,\n",
       " np.int64(695): 694,\n",
       " np.int64(696): 695,\n",
       " np.int64(697): 696,\n",
       " np.int64(698): 697,\n",
       " np.int64(699): 698,\n",
       " np.int64(700): 699,\n",
       " np.int64(701): 700,\n",
       " np.int64(702): 701,\n",
       " np.int64(703): 702,\n",
       " np.int64(704): 703,\n",
       " np.int64(705): 704,\n",
       " np.int64(706): 705,\n",
       " np.int64(707): 706,\n",
       " np.int64(708): 707,\n",
       " np.int64(709): 708,\n",
       " np.int64(710): 709,\n",
       " np.int64(711): 710,\n",
       " np.int64(712): 711,\n",
       " np.int64(713): 712,\n",
       " np.int64(714): 713,\n",
       " np.int64(715): 714,\n",
       " np.int64(716): 715,\n",
       " np.int64(717): 716,\n",
       " np.int64(718): 717,\n",
       " np.int64(719): 718,\n",
       " np.int64(720): 719,\n",
       " np.int64(721): 720,\n",
       " np.int64(722): 721,\n",
       " np.int64(723): 722,\n",
       " np.int64(724): 723,\n",
       " np.int64(725): 724,\n",
       " np.int64(726): 725,\n",
       " np.int64(727): 726,\n",
       " np.int64(728): 727,\n",
       " np.int64(729): 728,\n",
       " np.int64(730): 729,\n",
       " np.int64(731): 730,\n",
       " np.int64(732): 731,\n",
       " np.int64(733): 732,\n",
       " np.int64(734): 733,\n",
       " np.int64(735): 734,\n",
       " np.int64(736): 735,\n",
       " np.int64(737): 736,\n",
       " np.int64(738): 737,\n",
       " np.int64(739): 738,\n",
       " np.int64(740): 739,\n",
       " np.int64(741): 740,\n",
       " np.int64(742): 741,\n",
       " np.int64(743): 742,\n",
       " np.int64(744): 743,\n",
       " np.int64(745): 744,\n",
       " np.int64(746): 745,\n",
       " np.int64(747): 746,\n",
       " np.int64(748): 747,\n",
       " np.int64(749): 748,\n",
       " np.int64(750): 749,\n",
       " np.int64(751): 750,\n",
       " np.int64(752): 751,\n",
       " np.int64(753): 752,\n",
       " np.int64(754): 753,\n",
       " np.int64(755): 754,\n",
       " np.int64(756): 755,\n",
       " np.int64(757): 756,\n",
       " np.int64(758): 757,\n",
       " np.int64(759): 758,\n",
       " np.int64(760): 759,\n",
       " np.int64(761): 760,\n",
       " np.int64(762): 761,\n",
       " np.int64(763): 762,\n",
       " np.int64(764): 763,\n",
       " np.int64(765): 764,\n",
       " np.int64(766): 765,\n",
       " np.int64(767): 766,\n",
       " np.int64(768): 767,\n",
       " np.int64(769): 768,\n",
       " np.int64(770): 769,\n",
       " np.int64(771): 770,\n",
       " np.int64(772): 771,\n",
       " np.int64(773): 772,\n",
       " np.int64(774): 773,\n",
       " np.int64(775): 774,\n",
       " np.int64(776): 775,\n",
       " np.int64(777): 776,\n",
       " np.int64(778): 777,\n",
       " np.int64(779): 778,\n",
       " np.int64(780): 779,\n",
       " np.int64(781): 780,\n",
       " np.int64(782): 781,\n",
       " np.int64(783): 782,\n",
       " np.int64(784): 783,\n",
       " np.int64(785): 784,\n",
       " np.int64(786): 785,\n",
       " np.int64(787): 786,\n",
       " np.int64(788): 787,\n",
       " np.int64(789): 788,\n",
       " np.int64(790): 789,\n",
       " np.int64(791): 790,\n",
       " np.int64(792): 791,\n",
       " np.int64(793): 792,\n",
       " np.int64(794): 793,\n",
       " np.int64(795): 794,\n",
       " np.int64(796): 795,\n",
       " np.int64(797): 796,\n",
       " np.int64(798): 797,\n",
       " np.int64(799): 798,\n",
       " np.int64(800): 799,\n",
       " np.int64(801): 800,\n",
       " np.int64(802): 801,\n",
       " np.int64(803): 802,\n",
       " np.int64(804): 803,\n",
       " np.int64(805): 804,\n",
       " np.int64(806): 805,\n",
       " np.int64(807): 806,\n",
       " np.int64(808): 807,\n",
       " np.int64(809): 808,\n",
       " np.int64(810): 809,\n",
       " np.int64(811): 810,\n",
       " np.int64(812): 811,\n",
       " np.int64(813): 812,\n",
       " np.int64(814): 813,\n",
       " np.int64(815): 814,\n",
       " np.int64(816): 815,\n",
       " np.int64(817): 816,\n",
       " np.int64(818): 817,\n",
       " np.int64(819): 818,\n",
       " np.int64(820): 819,\n",
       " np.int64(821): 820,\n",
       " np.int64(822): 821,\n",
       " np.int64(823): 822,\n",
       " np.int64(824): 823,\n",
       " np.int64(825): 824,\n",
       " np.int64(826): 825,\n",
       " np.int64(827): 826,\n",
       " np.int64(828): 827,\n",
       " np.int64(829): 828,\n",
       " np.int64(830): 829,\n",
       " np.int64(831): 830,\n",
       " np.int64(832): 831,\n",
       " np.int64(833): 832,\n",
       " np.int64(834): 833,\n",
       " np.int64(835): 834,\n",
       " np.int64(836): 835,\n",
       " np.int64(837): 836,\n",
       " np.int64(838): 837,\n",
       " np.int64(839): 838,\n",
       " np.int64(840): 839,\n",
       " np.int64(841): 840,\n",
       " np.int64(842): 841,\n",
       " np.int64(843): 842,\n",
       " np.int64(844): 843,\n",
       " np.int64(845): 844,\n",
       " np.int64(846): 845,\n",
       " np.int64(847): 846,\n",
       " np.int64(848): 847,\n",
       " np.int64(849): 848,\n",
       " np.int64(850): 849,\n",
       " np.int64(851): 850,\n",
       " np.int64(852): 851,\n",
       " np.int64(853): 852,\n",
       " np.int64(854): 853,\n",
       " np.int64(855): 854,\n",
       " np.int64(856): 855,\n",
       " np.int64(857): 856,\n",
       " np.int64(858): 857,\n",
       " np.int64(859): 858,\n",
       " np.int64(860): 859,\n",
       " np.int64(861): 860,\n",
       " np.int64(862): 861,\n",
       " np.int64(863): 862,\n",
       " np.int64(864): 863,\n",
       " np.int64(865): 864,\n",
       " np.int64(866): 865,\n",
       " np.int64(867): 866,\n",
       " np.int64(868): 867,\n",
       " np.int64(869): 868,\n",
       " np.int64(870): 869,\n",
       " np.int64(871): 870,\n",
       " np.int64(872): 871,\n",
       " np.int64(873): 872,\n",
       " np.int64(874): 873,\n",
       " np.int64(875): 874,\n",
       " np.int64(876): 875,\n",
       " np.int64(877): 876,\n",
       " np.int64(878): 877,\n",
       " np.int64(879): 878,\n",
       " np.int64(880): 879,\n",
       " np.int64(881): 880,\n",
       " np.int64(882): 881,\n",
       " np.int64(883): 882,\n",
       " np.int64(884): 883,\n",
       " np.int64(885): 884,\n",
       " np.int64(886): 885,\n",
       " np.int64(887): 886,\n",
       " np.int64(888): 887,\n",
       " np.int64(889): 888,\n",
       " np.int64(890): 889,\n",
       " np.int64(891): 890,\n",
       " np.int64(892): 891,\n",
       " np.int64(893): 892,\n",
       " np.int64(894): 893,\n",
       " np.int64(895): 894,\n",
       " np.int64(896): 895,\n",
       " np.int64(897): 896,\n",
       " np.int64(898): 897,\n",
       " np.int64(899): 898,\n",
       " np.int64(900): 899,\n",
       " np.int64(901): 900,\n",
       " np.int64(902): 901,\n",
       " np.int64(903): 902,\n",
       " np.int64(904): 903,\n",
       " np.int64(905): 904,\n",
       " np.int64(906): 905,\n",
       " np.int64(907): 906,\n",
       " np.int64(908): 907,\n",
       " np.int64(909): 908,\n",
       " np.int64(910): 909,\n",
       " np.int64(911): 910,\n",
       " np.int64(912): 911,\n",
       " np.int64(913): 912,\n",
       " np.int64(914): 913,\n",
       " np.int64(915): 914,\n",
       " np.int64(916): 915,\n",
       " np.int64(917): 916,\n",
       " np.int64(918): 917,\n",
       " np.int64(919): 918,\n",
       " np.int64(920): 919,\n",
       " np.int64(921): 920,\n",
       " np.int64(922): 921,\n",
       " np.int64(923): 922,\n",
       " np.int64(924): 923,\n",
       " np.int64(925): 924,\n",
       " np.int64(926): 925,\n",
       " np.int64(927): 926,\n",
       " np.int64(928): 927,\n",
       " np.int64(929): 928,\n",
       " np.int64(930): 929,\n",
       " np.int64(931): 930,\n",
       " np.int64(932): 931,\n",
       " np.int64(933): 932,\n",
       " np.int64(934): 933,\n",
       " np.int64(935): 934,\n",
       " np.int64(936): 935,\n",
       " np.int64(937): 936,\n",
       " np.int64(938): 937,\n",
       " np.int64(939): 938,\n",
       " np.int64(940): 939,\n",
       " np.int64(941): 940,\n",
       " np.int64(942): 941,\n",
       " np.int64(943): 942,\n",
       " np.int64(944): 943,\n",
       " np.int64(945): 944,\n",
       " np.int64(946): 945,\n",
       " np.int64(947): 946,\n",
       " np.int64(948): 947,\n",
       " np.int64(949): 948,\n",
       " np.int64(950): 949,\n",
       " np.int64(951): 950,\n",
       " np.int64(952): 951,\n",
       " np.int64(953): 952,\n",
       " np.int64(954): 953,\n",
       " np.int64(955): 954,\n",
       " np.int64(956): 955,\n",
       " np.int64(957): 956,\n",
       " np.int64(958): 957,\n",
       " np.int64(959): 958,\n",
       " np.int64(960): 959,\n",
       " np.int64(961): 960,\n",
       " np.int64(962): 961,\n",
       " np.int64(963): 962,\n",
       " np.int64(964): 963,\n",
       " np.int64(965): 964,\n",
       " np.int64(966): 965,\n",
       " np.int64(967): 966,\n",
       " np.int64(968): 967,\n",
       " np.int64(969): 968,\n",
       " np.int64(970): 969,\n",
       " np.int64(971): 970,\n",
       " np.int64(972): 971,\n",
       " np.int64(973): 972,\n",
       " np.int64(974): 973,\n",
       " np.int64(975): 974,\n",
       " np.int64(976): 975,\n",
       " np.int64(977): 976,\n",
       " np.int64(978): 977,\n",
       " np.int64(979): 978,\n",
       " np.int64(980): 979,\n",
       " np.int64(981): 980,\n",
       " np.int64(982): 981,\n",
       " np.int64(983): 982,\n",
       " np.int64(984): 983,\n",
       " np.int64(985): 984,\n",
       " np.int64(986): 985,\n",
       " np.int64(987): 986,\n",
       " np.int64(988): 987,\n",
       " np.int64(989): 988,\n",
       " np.int64(990): 989,\n",
       " np.int64(991): 990,\n",
       " np.int64(992): 991,\n",
       " np.int64(993): 992,\n",
       " np.int64(994): 993,\n",
       " np.int64(995): 994,\n",
       " np.int64(996): 995,\n",
       " np.int64(997): 996,\n",
       " np.int64(998): 997,\n",
       " np.int64(999): 998,\n",
       " np.int64(1000): 999,\n",
       " ...}"
      ]
     },
     "execution_count": 164,
     "metadata": {},
     "output_type": "execute_result"
    }
   ],
   "source": [
    "user_mapper"
   ]
  },
  {
   "cell_type": "markdown",
   "metadata": {},
   "source": [
    "Our `X` matrix contains 610 users and 9724 animes."
   ]
  },
  {
   "cell_type": "markdown",
   "metadata": {},
   "source": [
    "### Evaluating sparsity\n",
    "\n",
    "Here, we calculate sparsity by dividing the number of stored elements by total number of elements. The number of stored (non-empty) elements in our matrix ([nnz](https://docs.scipy.org/doc/scipy/reference/generated/scipy.sparse.csr_matrix.nnz.html)) is equivalent to the number of ratings in our dataset."
   ]
  },
  {
   "cell_type": "code",
   "execution_count": 165,
   "metadata": {},
   "outputs": [
    {
     "name": "stdout",
     "output_type": "stream",
     "text": [
      "Matrix sparsity: 0.95%\n"
     ]
    }
   ],
   "source": [
    "n_total = X.shape[0]*X.shape[1]\n",
    "n_ratings = X.nnz\n",
    "sparsity = n_ratings/n_total\n",
    "print(f\"Matrix sparsity: {round(sparsity*100,2)}%\")"
   ]
  },
  {
   "cell_type": "markdown",
   "metadata": {},
   "source": [
    "`csr_matrix.nnz` counts the stored values in our sparse matrix. The rest of our cells are empty.\n",
    "\n",
    "The **cold start problem** is when there are new users and animes in our matrix that do not have any ratings."
   ]
  },
  {
   "cell_type": "code",
   "execution_count": 166,
   "metadata": {},
   "outputs": [
    {
     "data": {
      "text/plain": [
       "73515"
      ]
     },
     "execution_count": 166,
     "metadata": {},
     "output_type": "execute_result"
    }
   ],
   "source": [
    "n_ratings_per_user = X.getnnz(axis=1)\n",
    "len(n_ratings_per_user)"
   ]
  },
  {
   "cell_type": "code",
   "execution_count": 167,
   "metadata": {},
   "outputs": [
    {
     "name": "stdout",
     "output_type": "stream",
     "text": [
      "Most active user rated 10227 anime(s).\n",
      "Least active user rated 1 anime(s).\n"
     ]
    }
   ],
   "source": [
    "print(f\"Most active user rated {n_ratings_per_user.max()} anime(s).\")\n",
    "print(f\"Least active user rated {n_ratings_per_user.min()} anime(s).\")"
   ]
  },
  {
   "cell_type": "code",
   "execution_count": 168,
   "metadata": {},
   "outputs": [
    {
     "data": {
      "text/plain": [
       "11200"
      ]
     },
     "execution_count": 168,
     "metadata": {},
     "output_type": "execute_result"
    }
   ],
   "source": [
    "n_ratings_per_anime = X.getnnz(axis=0)\n",
    "len(n_ratings_per_anime)"
   ]
  },
  {
   "cell_type": "code",
   "execution_count": 169,
   "metadata": {},
   "outputs": [
    {
     "name": "stdout",
     "output_type": "stream",
     "text": [
      "Most rated anime has 39340 ratings.\n",
      "Least rated anime has 1 ratings.\n"
     ]
    }
   ],
   "source": [
    "print(f\"Most rated anime has {n_ratings_per_anime.max()} ratings.\")\n",
    "print(f\"Least rated anime has {n_ratings_per_anime.min()} ratings.\")"
   ]
  },
  {
   "cell_type": "code",
   "execution_count": 170,
   "metadata": {},
   "outputs": [
    {
     "data": {
      "image/png": "[encoded data removed]",
      "text/plain": [
       "<Figure size 1600x400 with 2 Axes>"
      ]
     },
     "metadata": {},
     "output_type": "display_data"
    }
   ],
   "source": [
    "plt.figure(figsize=(16,4))\n",
    "plt.subplot(1,2,1)\n",
    "sns.kdeplot(n_ratings_per_user, fill=True)\n",
    "plt.xlim(0)\n",
    "plt.title(\"Number of Ratings Per User\", fontsize=14)\n",
    "plt.xlabel(\"number of ratings per user\")\n",
    "plt.ylabel(\"density\")\n",
    "plt.subplot(1,2,2)\n",
    "sns.kdeplot(n_ratings_per_anime, fill=True)\n",
    "plt.xlim(0)\n",
    "plt.title(\"Number of Ratings Per Anime\", fontsize=14)\n",
    "plt.xlabel(\"number of ratings per Anime\")\n",
    "plt.ylabel(\"density\")\n",
    "plt.show()"
   ]
  },
  {
   "cell_type": "markdown",
   "metadata": {},
   "source": [
    "### Step 5: Item-item Recommendations with k-Nearest Neighbors"
   ]
  },
  {
   "cell_type": "markdown",
   "metadata": {},
   "source": [
    "We are going to find the $k$ animes that have the most similar user engagement vectors for anime $i$."
   ]
  },
  {
   "cell_type": "code",
   "execution_count": 171,
   "metadata": {},
   "outputs": [],
   "source": [
    "def find_similar_animes(anime_id, X, anime_mapper, anime_inv_mapper, k, metric='cosine'):\n",
    "    \"\"\"\n",
    "    Finds k-nearest neighbours for a given anime id.\n",
    "    \n",
    "    Args:\n",
    "        anime_id: id of the anime of interest\n",
    "        X: user-item utility matrix\n",
    "        k: number of similar animes to retrieve\n",
    "        metric: distance metric for kNN calculations\n",
    "    \n",
    "    Output: returns list of k similar anime ID's\n",
    "    \"\"\"\n",
    "    X = X.T\n",
    "    neighbour_ids = []\n",
    "    \n",
    "    anime_ind = anime_mapper[anime_id]\n",
    "    anime_vec = X[anime_ind]\n",
    "    if isinstance(anime_vec, (np.ndarray)):\n",
    "        anime_vec = anime_vec.reshape(1,-1)\n",
    "    # use k+1 since kNN output includes the anime_id of interest\n",
    "    kNN = NearestNeighbors(n_neighbors=k+1, algorithm=\"brute\", metric=metric)\n",
    "    kNN.fit(X)\n",
    "    neighbour = kNN.kneighbors(anime_vec, return_distance=False)\n",
    "    for i in range(0,k):\n",
    "        n = neighbour.item(i)\n",
    "        neighbour_ids.append(anime_inv_mapper[n])\n",
    "    neighbour_ids.pop(0)\n",
    "    return neighbour_ids"
   ]
  },
  {
   "cell_type": "markdown",
   "metadata": {},
   "source": [
    "`find_similar_animes()` takes in a `animeId` and `X` matrix, and outputs a list of $k$ animes that are similar to the `anime_id` of interest.\n",
    "\n",
    "Let's see how it works in action. We will first create another mapper that maps anime_id to title so that our results are interpretable."
   ]
  },
  {
   "cell_type": "code",
   "execution_count": 172,
   "metadata": {},
   "outputs": [
    {
     "data": {
      "text/plain": [
       "[np.int64(5),\n",
       " np.int64(205),\n",
       " np.int64(6),\n",
       " np.int64(227),\n",
       " np.int64(30),\n",
       " np.int64(2001),\n",
       " np.int64(47),\n",
       " np.int64(889),\n",
       " np.int64(43)]"
      ]
     },
     "execution_count": 172,
     "metadata": {},
     "output_type": "execute_result"
    }
   ],
   "source": [
    "similar_animes = find_similar_animes(1, X, anime_mapper, anime_inv_mapper, k=10)\n",
    "similar_animes"
   ]
  },
  {
   "cell_type": "markdown",
   "metadata": {},
   "source": [
    "`find_similar_animes()` returns a list of `animeId`'s that are most similar to your anime of interest. Let's convert these id's to titles so that we can interpret our results. To make things easier, we will create a dictionary that maps `anime_id` to `name`."
   ]
  },
  {
   "cell_type": "code",
   "execution_count": 173,
   "metadata": {},
   "outputs": [
    {
     "name": "stdout",
     "output_type": "stream",
     "text": [
      "Because you watched Cowboy Bebop:\n",
      "Cowboy Bebop: Tengoku no Tobira\n",
      "Samurai Champloo\n",
      "Trigun\n",
      "FLCL\n",
      "Neon Genesis Evangelion\n",
      "Tengen Toppa Gurren Lagann\n",
      "Akira\n",
      "Black Lagoon\n",
      "Ghost in the Shell\n"
     ]
    }
   ],
   "source": [
    "anime_titles = dict(zip(anime['anime_id'], anime['name']))\n",
    "\n",
    "anime_id = 1\n",
    "\n",
    "similar_animes = find_similar_animes(anime_id, X, anime_mapper, anime_inv_mapper, metric='cosine', k=10)\n",
    "anime_title = anime_titles[anime_id]\n",
    "\n",
    "print(f\"Because you watched {anime_title}:\")\n",
    "for i in similar_animes:\n",
    "    print(anime_titles[i])"
   ]
  },
  {
   "cell_type": "markdown",
   "metadata": {},
   "source": [
    "The results above show the 10 animes that are most similar to Toy Story. Most animes in this list are family animes from the 1990s, which seems pretty reasonable. Note that these recommendations are based solely on user-item ratings. Anime features such as genre are not used in this approach."
   ]
  },
  {
   "cell_type": "markdown",
   "metadata": {},
   "source": [
    "You can also play around with the kNN distance metric and see what results you would get if you use \"manhattan\" or \"euclidean\" instead of \"cosine\"."
   ]
  },
  {
   "cell_type": "code",
   "execution_count": 174,
   "metadata": {},
   "outputs": [
    {
     "name": "stdout",
     "output_type": "stream",
     "text": [
      "Because you watched Cowboy Bebop:\n",
      "Cowboy Bebop: Tengoku no Tobira\n",
      "Trigun\n",
      "Samurai Champloo\n",
      "Ghost in the Shell: Stand Alone Complex\n",
      "Akira\n",
      "Ghost in the Shell\n",
      "FLCL\n",
      "Ghost in the Shell: Stand Alone Complex 2nd GIG\n",
      "Seihou Bukyou Outlaw Star\n"
     ]
    }
   ],
   "source": [
    "anime_id = 1\n",
    "\n",
    "similar_animes = find_similar_animes(anime_id, X, anime_mapper, anime_inv_mapper, metric='euclidean', k=10)\n",
    "anime_title = anime_titles[anime_id]\n",
    "\n",
    "print(f\"Because you watched {anime_title}:\")\n",
    "for i in similar_animes:\n",
    "    print(anime_titles[i])"
   ]
  },
  {
   "cell_type": "markdown",
   "metadata": {},
   "source": [
    "### Step 6: Handling the cold-start problem\n",
    "\n",
    "Collaborative filtering relies solely on user-item interactions within the utility matrix. The issue with this approach is that brand new users or items with no iteractions get excluded from the recommendation system. This is called the **cold start problem**. Content-based filtering is a way to handle this problem by generating recommendations based on user and item features.\n",
    "\n",
    "First, we need to convert the `genres` column into binary features. Each genre will have its own column in the dataframe, and will be populated with 0 or 1."
   ]
  },
  {
   "cell_type": "code",
   "execution_count": 175,
   "metadata": {},
   "outputs": [
    {
     "name": "stdout",
     "output_type": "stream",
     "text": [
      "There are 12017 unique anime in our anime dataset.\n"
     ]
    }
   ],
   "source": [
    "n_animes = anime['anime_id'].nunique()\n",
    "print(f\"There are {n_animes} unique anime in our anime dataset.\")"
   ]
  },
  {
   "cell_type": "code",
   "execution_count": 176,
   "metadata": {},
   "outputs": [],
   "source": [
    "genres = set(g for G in anime['genre'] for g in G)\n",
    "\n",
    "for g in genres:\n",
    "    anime[g] = anime.genre.transform(lambda x: int(g in x))\n",
    "    \n",
    "anime_genres = anime.drop(columns=['anime_id', 'name','genre', 'type', 'episodes', 'rating', 'members'])"
   ]
  },
  {
   "cell_type": "code",
   "execution_count": 177,
   "metadata": {},
   "outputs": [
    {
     "data": {
      "text/html": [
       "<div>\n",
       "<style scoped>\n",
       "    .dataframe tbody tr th:only-of-type {\n",
       "        vertical-align: middle;\n",
       "    }\n",
       "\n",
       "    .dataframe tbody tr th {\n",
       "        vertical-align: top;\n",
       "    }\n",
       "\n",
       "    .dataframe thead th {\n",
       "        text-align: right;\n",
       "    }\n",
       "</style>\n",
       "<table border=\"1\" class=\"dataframe\">\n",
       "  <thead>\n",
       "    <tr style=\"text-align: right;\">\n",
       "      <th></th>\n",
       "      <th>Comedy</th>\n",
       "      <th>Kids</th>\n",
       "      <th>Sci-Fi</th>\n",
       "      <th>Parody</th>\n",
       "      <th>Space</th>\n",
       "      <th>Supernatural</th>\n",
       "      <th>Parody</th>\n",
       "      <th>Military</th>\n",
       "      <th>Game</th>\n",
       "      <th>Demons</th>\n",
       "      <th>...</th>\n",
       "      <th>Music</th>\n",
       "      <th>Kids</th>\n",
       "      <th>Magic</th>\n",
       "      <th>Dementia</th>\n",
       "      <th>Music</th>\n",
       "      <th>Ecchi</th>\n",
       "      <th>Samurai</th>\n",
       "      <th>Action</th>\n",
       "      <th>Adventure</th>\n",
       "      <th>Harem</th>\n",
       "    </tr>\n",
       "  </thead>\n",
       "  <tbody>\n",
       "    <tr>\n",
       "      <th>0</th>\n",
       "      <td>0</td>\n",
       "      <td>0</td>\n",
       "      <td>0</td>\n",
       "      <td>0</td>\n",
       "      <td>0</td>\n",
       "      <td>0</td>\n",
       "      <td>0</td>\n",
       "      <td>0</td>\n",
       "      <td>0</td>\n",
       "      <td>0</td>\n",
       "      <td>...</td>\n",
       "      <td>0</td>\n",
       "      <td>0</td>\n",
       "      <td>0</td>\n",
       "      <td>0</td>\n",
       "      <td>0</td>\n",
       "      <td>0</td>\n",
       "      <td>0</td>\n",
       "      <td>0</td>\n",
       "      <td>0</td>\n",
       "      <td>0</td>\n",
       "    </tr>\n",
       "    <tr>\n",
       "      <th>1</th>\n",
       "      <td>0</td>\n",
       "      <td>0</td>\n",
       "      <td>0</td>\n",
       "      <td>0</td>\n",
       "      <td>0</td>\n",
       "      <td>0</td>\n",
       "      <td>0</td>\n",
       "      <td>1</td>\n",
       "      <td>0</td>\n",
       "      <td>0</td>\n",
       "      <td>...</td>\n",
       "      <td>0</td>\n",
       "      <td>0</td>\n",
       "      <td>1</td>\n",
       "      <td>0</td>\n",
       "      <td>0</td>\n",
       "      <td>0</td>\n",
       "      <td>0</td>\n",
       "      <td>1</td>\n",
       "      <td>1</td>\n",
       "      <td>0</td>\n",
       "    </tr>\n",
       "    <tr>\n",
       "      <th>2</th>\n",
       "      <td>0</td>\n",
       "      <td>0</td>\n",
       "      <td>0</td>\n",
       "      <td>1</td>\n",
       "      <td>0</td>\n",
       "      <td>0</td>\n",
       "      <td>0</td>\n",
       "      <td>0</td>\n",
       "      <td>0</td>\n",
       "      <td>0</td>\n",
       "      <td>...</td>\n",
       "      <td>0</td>\n",
       "      <td>0</td>\n",
       "      <td>0</td>\n",
       "      <td>0</td>\n",
       "      <td>0</td>\n",
       "      <td>0</td>\n",
       "      <td>1</td>\n",
       "      <td>1</td>\n",
       "      <td>0</td>\n",
       "      <td>0</td>\n",
       "    </tr>\n",
       "    <tr>\n",
       "      <th>3</th>\n",
       "      <td>0</td>\n",
       "      <td>0</td>\n",
       "      <td>1</td>\n",
       "      <td>0</td>\n",
       "      <td>0</td>\n",
       "      <td>0</td>\n",
       "      <td>0</td>\n",
       "      <td>0</td>\n",
       "      <td>0</td>\n",
       "      <td>0</td>\n",
       "      <td>...</td>\n",
       "      <td>0</td>\n",
       "      <td>0</td>\n",
       "      <td>0</td>\n",
       "      <td>0</td>\n",
       "      <td>0</td>\n",
       "      <td>0</td>\n",
       "      <td>0</td>\n",
       "      <td>0</td>\n",
       "      <td>0</td>\n",
       "      <td>0</td>\n",
       "    </tr>\n",
       "    <tr>\n",
       "      <th>4</th>\n",
       "      <td>0</td>\n",
       "      <td>0</td>\n",
       "      <td>0</td>\n",
       "      <td>1</td>\n",
       "      <td>0</td>\n",
       "      <td>0</td>\n",
       "      <td>0</td>\n",
       "      <td>0</td>\n",
       "      <td>0</td>\n",
       "      <td>0</td>\n",
       "      <td>...</td>\n",
       "      <td>0</td>\n",
       "      <td>0</td>\n",
       "      <td>0</td>\n",
       "      <td>0</td>\n",
       "      <td>0</td>\n",
       "      <td>0</td>\n",
       "      <td>1</td>\n",
       "      <td>1</td>\n",
       "      <td>0</td>\n",
       "      <td>0</td>\n",
       "    </tr>\n",
       "  </tbody>\n",
       "</table>\n",
       "<p>5 rows × 82 columns</p>\n",
       "</div>"
      ],
      "text/plain": [
       "   Comedy  Kids  Sci-Fi   Parody   Space  Supernatural  Parody   Military  \\\n",
       "0       0     0       0        0       0             0       0          0   \n",
       "1       0     0       0        0       0             0       0          1   \n",
       "2       0     0       0        1       0             0       0          0   \n",
       "3       0     0       1        0       0             0       0          0   \n",
       "4       0     0       0        1       0             0       0          0   \n",
       "\n",
       "    Game   Demons  ...  Music   Kids   Magic   Dementia   Music  Ecchi  \\\n",
       "0      0        0  ...      0      0       0          0       0      0   \n",
       "1      0        0  ...      0      0       1          0       0      0   \n",
       "2      0        0  ...      0      0       0          0       0      0   \n",
       "3      0        0  ...      0      0       0          0       0      0   \n",
       "4      0        0  ...      0      0       0          0       0      0   \n",
       "\n",
       "    Samurai  Action   Adventure   Harem  \n",
       "0         0       0           0       0  \n",
       "1         0       1           1       0  \n",
       "2         1       1           0       0  \n",
       "3         0       0           0       0  \n",
       "4         1       1           0       0  \n",
       "\n",
       "[5 rows x 82 columns]"
      ]
     },
     "execution_count": 177,
     "metadata": {},
     "output_type": "execute_result"
    }
   ],
   "source": [
    "anime_genres.head()"
   ]
  },
  {
   "cell_type": "code",
   "execution_count": 178,
   "metadata": {},
   "outputs": [
    {
     "name": "stdout",
     "output_type": "stream",
     "text": [
      "Dimensions of our genres cosine similarity matrix: (12017, 12017)\n"
     ]
    }
   ],
   "source": [
    "cosine_sim = cosine_similarity(anime_genres, anime_genres)\n",
    "print(f\"Dimensions of our genres cosine similarity matrix: {cosine_sim.shape}\")"
   ]
  },
  {
   "cell_type": "markdown",
   "metadata": {},
   "source": [
    "As expected, after passing the `anime_genres` dataframe into the cosine_similarity() function, we get a cosine similarity matrix of shape $(n_{\\text{animes}}, n_{\\text{animes}})$.\n",
    "\n",
    "This matrix is populated with values between 0 and 1 which represent the degree of similarity between animes along the x and y axes."
   ]
  },
  {
   "cell_type": "markdown",
   "metadata": {},
   "source": [
    "### Creating an anime finder function\n",
    "Let's say we want to get recommendations for animes that are similar to Jumanji. To get results from our recommender, we need to know the exact title of a anime in our dataset.\n",
    "\n",
    "In our dataset, Jumanji is actually listed as 'Jumanji (1995)'. If we misspell Jumanji or forget to include its year of release, our recommender won't be able to identify which anime we're interested in.\n",
    "\n",
    "To make our recommender more user-friendly, we can use a Python package called [fuzzywuzzy](https://pypi.org/project/fuzzywuzzy/) which will find the most similar title to a string that you pass in. Let's create a function called `anime_finder()` which take advantage of fuzzywuzzy's string matching algorithm to get the most similar title to a user-inputted string."
   ]
  },
  {
   "cell_type": "code",
   "execution_count": 179,
   "metadata": {},
   "outputs": [],
   "source": [
    "def anime_finder(title):\n",
    "    all_titles = anime['name'].tolist()\n",
    "    closest_match = process.extractOne(title,all_titles)\n",
    "    return closest_match[0]"
   ]
  },
  {
   "cell_type": "markdown",
   "metadata": {},
   "source": [
    "Let's test this out with our Jumanji example. "
   ]
  },
  {
   "cell_type": "code",
   "execution_count": 180,
   "metadata": {},
   "outputs": [
    {
     "data": {
      "text/plain": [
       "'Naruto'"
      ]
     },
     "execution_count": 180,
     "metadata": {},
     "output_type": "execute_result"
    }
   ],
   "source": [
    "title = anime_finder('Naruto')\n",
    "title"
   ]
  },
  {
   "cell_type": "markdown",
   "metadata": {},
   "source": [
    "To get relevant recommendations for `Naruto`, we need to find its index in the cosine simialrity matrix. To identify which row we should be looking at, we can create a anime index mapper which maps a anime title to the index that it represents in our matrix.\n",
    "\n",
    "Let's create a anime index dictionary called `anime_idx` where the keys are anime titles and values are anime indices:"
   ]
  },
  {
   "cell_type": "code",
   "execution_count": 181,
   "metadata": {},
   "outputs": [
    {
     "name": "stdout",
     "output_type": "stream",
     "text": [
      "Anime index for Naruto: 841\n"
     ]
    }
   ],
   "source": [
    "anime_idx = dict(zip(anime['name'], list(anime.index)))\n",
    "idx = anime_idx[title]\n",
    "print(f\"Anime index for Naruto: {idx}\")"
   ]
  },
  {
   "cell_type": "markdown",
   "metadata": {},
   "source": [
    "Using this handy `anime_idx` dictionary, we know that Jumanji is represented by index 1 in our matrix. Let's get the top 10 most similar animes to Jumanji."
   ]
  },
  {
   "cell_type": "code",
   "execution_count": 182,
   "metadata": {},
   "outputs": [],
   "source": [
    "n_recommendations=10\n",
    "sim_scores = list(enumerate(cosine_sim[idx]))\n",
    "sim_scores = sorted(sim_scores, key=lambda x: x[1], reverse=True)\n",
    "sim_scores = sim_scores[1:(n_recommendations+1)]\n",
    "similar_animes = [i[0] for i in sim_scores]"
   ]
  },
  {
   "cell_type": "markdown",
   "metadata": {},
   "source": [
    "`similar_animes` is an array of indices that represents Jumanji's top 10 recommendations. We can get the corresponding anime titles by either creating an inverse anime_idx mapper or using iloc on the title column of the animes dataframe."
   ]
  },
  {
   "cell_type": "code",
   "execution_count": 183,
   "metadata": {},
   "outputs": [
    {
     "name": "stdout",
     "output_type": "stream",
     "text": [
      "Because you watched Naruto:\n"
     ]
    },
    {
     "data": {
      "text/plain": [
       "615                                    Naruto: Shippuuden\n",
       "841                                                Naruto\n",
       "1103    Boruto: Naruto the Movie - Naruto ga Hokage ni...\n",
       "1343                                          Naruto x UT\n",
       "1472          Naruto: Shippuuden Movie 4 - The Lost Tower\n",
       "1573    Naruto: Shippuuden Movie 3 - Hi no Ishi wo Tsu...\n",
       "2458                 Naruto Shippuuden: Sunny Side Battle\n",
       "2997    Naruto Soyokazeden Movie: Naruto to Mashin to ...\n",
       "175                                Katekyo Hitman Reborn!\n",
       "7628                              Kyutai Panic Adventure!\n",
       "Name: name, dtype: object"
      ]
     },
     "execution_count": 183,
     "metadata": {},
     "output_type": "execute_result"
    }
   ],
   "source": [
    "print(f\"Because you watched {title}:\")\n",
    "anime['name'].iloc[similar_animes]"
   ]
  },
  {
   "cell_type": "markdown",
   "metadata": {},
   "source": [
    "We can test our recommender further with other anime titles. For your convenience, let's package the steps into a single function which takes in the anime title of interest and number of recommendations."
   ]
  },
  {
   "cell_type": "code",
   "execution_count": 184,
   "metadata": {},
   "outputs": [],
   "source": [
    "def get_content_based_recommendations(title_string, n_recommendations=10):\n",
    "    title = anime_finder(title_string)\n",
    "    idx = anime_idx[title]\n",
    "    sim_scores = list(enumerate(cosine_sim[idx]))\n",
    "    sim_scores = sorted(sim_scores, key=lambda x: x[1], reverse=True)\n",
    "    sim_scores = sim_scores[1:(n_recommendations+1)]\n",
    "    similar_animes = [i[0] for i in sim_scores]\n",
    "    print(f\"Because you watched {title}:\")\n",
    "    print(anime['name'].iloc[similar_animes])"
   ]
  },
  {
   "cell_type": "code",
   "execution_count": 185,
   "metadata": {},
   "outputs": [
    {
     "name": "stdout",
     "output_type": "stream",
     "text": [
      "Because you watched Fullmetal Alchemist: Brotherhood:\n",
      "200                                  Fullmetal Alchemist\n",
      "1558       Fullmetal Alchemist: The Sacred Star of Milos\n",
      "9259                                     Kkomaeosa Ttori\n",
      "101                           Magi: The Kingdom of Magic\n",
      "268                         Magi: The Labyrinth of Magic\n",
      "290                          Magi: Sinbad no Bouken (TV)\n",
      "461                               Magi: Sinbad no Bouken\n",
      "795                       Densetsu no Yuusha no Densetsu\n",
      "879                  Tales of Vesperia: The First Strike\n",
      "1991    Tsubasa Chronicle: Tori Kago no Kuni no Himegimi\n",
      "Name: name, dtype: object\n"
     ]
    }
   ],
   "source": [
    "get_content_based_recommendations('FullMetal', 10)"
   ]
  },
  {
   "cell_type": "markdown",
   "metadata": {},
   "source": [
    "### Step 7: Dimensionality Reduction with Matrix Factorization (advanced)\n",
    "\n",
    "Matrix factorization (MF) is a linear algebra technique that can help us discover latent features underlying the interactions between users and animes. These latent features give a more compact representation of user tastes and item descriptions. MF is particularly useful for very sparse data and can enhance the quality of recommendations. The algorithm works by factorizing the original user-item matrix into two factor matrices:\n",
    "\n",
    "- user-factor matrix (n_users, k)\n",
    "- item-factor matrix (k, n_items)\n",
    "\n",
    "We are reducing the dimensions of our original matrix into \"taste\" dimensions. We cannot interpret what each latent feature $k$ represents. However, we could imagine that one latent feature may represent users who like romantic comedies from the 1990s, while another latent feature may represent animes which are independent foreign language films.\n",
    "\n",
    "$$X_{mn}\\approx P_{mk}\\times Q_{nk}^T = \\hat{X} $$"
   ]
  },
  {
   "cell_type": "code",
   "execution_count": 186,
   "metadata": {},
   "outputs": [
    {
     "data": {
      "text/plain": [
       "(11200, 20)"
      ]
     },
     "execution_count": 186,
     "metadata": {},
     "output_type": "execute_result"
    }
   ],
   "source": [
    "svd = TruncatedSVD(n_components=20, n_iter=10)\n",
    "Q = svd.fit_transform(X.T)\n",
    "Q.shape"
   ]
  },
  {
   "cell_type": "code",
   "execution_count": 187,
   "metadata": {},
   "outputs": [
    {
     "name": "stdout",
     "output_type": "stream",
     "text": [
      "Because you watched Cowboy Bebop:\n",
      "Samurai Champloo\n",
      "Trigun\n",
      "Cowboy Bebop: Tengoku no Tobira\n",
      "FLCL\n",
      "Akira\n",
      "Ghost in the Shell: Stand Alone Complex\n",
      "Ghost in the Shell\n",
      "Ghost in the Shell: Stand Alone Complex 2nd GIG\n",
      "Berserk\n"
     ]
    }
   ],
   "source": [
    "anime_id = 1\n",
    "similar_animes = find_similar_animes(anime_id, Q.T, anime_mapper, anime_inv_mapper, metric='cosine', k=10)\n",
    "anime_title = anime_titles[anime_id]\n",
    "\n",
    "print(f\"Because you watched {anime_title}:\")\n",
    "for i in similar_animes:\n",
    "    print(anime_titles[i])"
   ]
  },
  {
   "cell_type": "markdown",
   "metadata": {},
   "source": [
    "The results above are the most similar animes to Cowboy Bebop using kNN on our “compressed” anime-factor matrix. We reduced the dimensions down to n_components=20. We can think of each component representing a latent feature such as anime genre."
   ]
  }
 ],
 "metadata": {
  "kernelspec": {
   "display_name": "Python 3",
   "language": "python",
   "name": "python3"
  },
  "language_info": {
   "codemirror_mode": {
    "name": "ipython",
    "version": 3
   },
   "file_extension": ".py",
   "mimetype": "text/x-python",
   "name": "python",
   "nbconvert_exporter": "python",
   "pygments_lexer": "ipython3",
   "version": "3.10.12"
  }
 },
 "nbformat": 4,
 "nbformat_minor": 2
}
